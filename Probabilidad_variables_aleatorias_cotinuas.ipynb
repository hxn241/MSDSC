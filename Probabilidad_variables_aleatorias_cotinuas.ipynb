{
 "cells": [
  {
   "cell_type": "markdown",
   "metadata": {},
   "source": [
    "# Probabilidad - Variables aleatorias contínuas\n",
    "\n",
    "X es una variable aleatoria continua si toma valores en un conjunto infinito no numerable. \n",
    "\n",
    "Se define la función de distribucion de X, F(X), como la probabilidad según la cual X tomará un determinado valor. Esta función mide la probabilidad en un intérvalo, no tendría sentido decir exactamente un punto, ya que la probabilidad seria practicamente nula.\n",
    "\n",
    "P(a ≤ x ≤ b)\n",
    "\n",
    "Com que és contínua s'evalua en un interval, per un punt no tindria sentit.\n",
    "\n",
    "També es compleix que cada interval la prob<1 i en l'interval sencer = 1"
   ]
  },
  {
   "cell_type": "code",
   "execution_count": 1,
   "metadata": {},
   "outputs": [],
   "source": [
    "import numpy as np\n",
    "import pandas as pd\n",
    "from scipy import stats\n",
    "from matplotlib import pyplot as plt\n",
    "\n",
    "%matplotlib inline"
   ]
  },
  {
   "cell_type": "markdown",
   "metadata": {},
   "source": [
    "### Distribución uniforme contínua\n",
    "\n",
    "Sea X una variable aleatoria continua, diremos que esta tiene una distribución uniforme\n",
    "continua si toma valores xi є [a,b] de manera equiprobable, donde -∞ < a < b < ∞."
   ]
  },
  {
   "cell_type": "code",
   "execution_count": 2,
   "metadata": {},
   "outputs": [
    {
     "data": {
      "text/plain": [
       "0.3"
      ]
     },
     "execution_count": 2,
     "metadata": {},
     "output_type": "execute_result"
    }
   ],
   "source": [
    "# Ejemplo: La línea de metro L5 pasa cada 10min. \n",
    "# Cual es la probabilidad de que, cuando llegue a la estación, pase un metro en menos de 3 minutos?\n",
    "\n",
    "# Lo que hemos comentado, fijaros que como es contínua miramos un intervalo de tiempo (mas de 3min)\n",
    "# No tendría sentido decir exactamente 3min, ya que la probabilidad seria practicamente nula.\n",
    "# A parte que 2,99 también cuenta o no?\n",
    "\n",
    "stats.uniform.cdf(3, 0, 10)  # cdf = cumulative distribution function\n",
    "                             # Siempre te dice la probabilidad de que midas menos de lo que le pones"
   ]
  },
  {
   "cell_type": "code",
   "execution_count": 3,
   "metadata": {},
   "outputs": [
    {
     "data": {
      "text/plain": [
       "1.0"
      ]
     },
     "execution_count": 3,
     "metadata": {},
     "output_type": "execute_result"
    }
   ],
   "source": [
    "# Efectivamente, la probabilidad de que pase un tren en 10min es 1\n",
    "\n",
    "stats.uniform.cdf(10, 0, 10)"
   ]
  },
  {
   "cell_type": "code",
   "execution_count": 4,
   "metadata": {},
   "outputs": [
    {
     "data": {
      "text/plain": [
       "array([5.47900018, 9.87845419, 5.00459113, ..., 7.5963245 , 4.13995262,\n",
       "       7.72679344])"
      ]
     },
     "execution_count": 4,
     "metadata": {},
     "output_type": "execute_result"
    }
   ],
   "source": [
    "muestras = 10000\n",
    "#resultados_tren = np.random.uniform(0, 10, size=muestras)\n",
    "resultados_tren = stats.uniform.rvs(0, 10, size=muestras)\n",
    "resultados_tren"
   ]
  },
  {
   "cell_type": "code",
   "execution_count": 5,
   "metadata": {},
   "outputs": [
    {
     "data": {
      "image/png": "[encoded data removed]",
      "text/plain": [
       "<Figure size 432x288 with 1 Axes>"
      ]
     },
     "metadata": {
      "needs_background": "light"
     },
     "output_type": "display_data"
    }
   ],
   "source": [
    "plt.hist(resultados_tren)\n",
    "plt.show()"
   ]
  },
  {
   "cell_type": "markdown",
   "metadata": {},
   "source": [
    "### Distribución normal\n",
    "Es la distribución más común, ya que en la vida real podemos encontrar multitud de fenómenos que se comportan según esta distribución."
   ]
  },
  {
   "cell_type": "code",
   "execution_count": 6,
   "metadata": {
    "scrolled": true
   },
   "outputs": [
    {
     "data": {
      "text/plain": [
       "0.7475074624530773"
      ]
     },
     "execution_count": 6,
     "metadata": {},
     "output_type": "execute_result"
    }
   ],
   "source": [
    "# Ejemplo: Las alturas de los alumnos de la KSCHOOL se distribuyen mediante una normal.\n",
    "# La media es mu = 1.7, y la desviación estandard es sigma = 0.15 \n",
    "     # --> estos parámetros pueden darnoslos o los calculamos segun los datos\n",
    "    \n",
    "mu = 1.7\n",
    "sigma = 0.15\n",
    "\n",
    "stats.norm.cdf(1.8, mu, sigma) # Siempre te dice la probabilidad de que midas menos de lo que le pones"
   ]
  },
  {
   "cell_type": "code",
   "execution_count": 7,
   "metadata": {},
   "outputs": [
    {
     "data": {
      "text/plain": [
       "0.09121121972586788"
      ]
     },
     "execution_count": 7,
     "metadata": {},
     "output_type": "execute_result"
    }
   ],
   "source": [
    "# Cual es la prob de que mida mas de 1.9?\n",
    "1 - stats.norm.cdf(1.9, mu, sigma) # Enseñar en la pizarra con grafico"
   ]
  },
  {
   "cell_type": "code",
   "execution_count": 8,
   "metadata": {},
   "outputs": [
    {
     "data": {
      "text/plain": [
       "0.16128131782105481"
      ]
     },
     "execution_count": 8,
     "metadata": {},
     "output_type": "execute_result"
    }
   ],
   "source": [
    "# Cual es la prob de que mida entre 1.8 y 1.9?\n",
    "stats.norm.cdf(1.9, mu, sigma) - stats.norm.cdf(1.8, mu, sigma)"
   ]
  },
  {
   "cell_type": "code",
   "execution_count": 9,
   "metadata": {},
   "outputs": [
    {
     "data": {
      "text/plain": [
       "array([1.70037031, 1.94009654, 1.75760216, ..., 1.88534279, 1.80885554,\n",
       "       1.32267192])"
      ]
     },
     "execution_count": 9,
     "metadata": {},
     "output_type": "execute_result"
    }
   ],
   "source": [
    "muestra = 10000\n",
    "resultados_altura = stats.norm.rvs(mu, sigma, size=muestra)\n",
    "resultados_altura"
   ]
  },
  {
   "cell_type": "code",
   "execution_count": 10,
   "metadata": {},
   "outputs": [
    {
     "data": {
      "image/png": "[encoded data removed]",
      "text/plain": [
       "<Figure size 432x288 with 1 Axes>"
      ]
     },
     "metadata": {
      "needs_background": "light"
     },
     "output_type": "display_data"
    }
   ],
   "source": [
    "plt.hist(resultados_altura, bins = 30)\n",
    "plt.show()"
   ]
  },
  {
   "cell_type": "code",
   "execution_count": 11,
   "metadata": {},
   "outputs": [
    {
     "data": {
      "text/html": [
       "<div>\n",
       "<style scoped>\n",
       "    .dataframe tbody tr th:only-of-type {\n",
       "        vertical-align: middle;\n",
       "    }\n",
       "\n",
       "    .dataframe tbody tr th {\n",
       "        vertical-align: top;\n",
       "    }\n",
       "\n",
       "    .dataframe thead th {\n",
       "        text-align: right;\n",
       "    }\n",
       "</style>\n",
       "<table border=\"1\" class=\"dataframe\">\n",
       "  <thead>\n",
       "    <tr style=\"text-align: right;\">\n",
       "      <th></th>\n",
       "      <th>nombres</th>\n",
       "      <th>sexo</th>\n",
       "      <th>altura</th>\n",
       "    </tr>\n",
       "  </thead>\n",
       "  <tbody>\n",
       "    <tr>\n",
       "      <td>0</td>\n",
       "      <td>Marc</td>\n",
       "      <td>H</td>\n",
       "      <td>1.8</td>\n",
       "    </tr>\n",
       "    <tr>\n",
       "      <td>1</td>\n",
       "      <td>Anna</td>\n",
       "      <td>M</td>\n",
       "      <td>1.7</td>\n",
       "    </tr>\n",
       "    <tr>\n",
       "      <td>2</td>\n",
       "      <td>Maria</td>\n",
       "      <td>M</td>\n",
       "      <td>1.5</td>\n",
       "    </tr>\n",
       "    <tr>\n",
       "      <td>3</td>\n",
       "      <td>Paula</td>\n",
       "      <td>M</td>\n",
       "      <td>1.7</td>\n",
       "    </tr>\n",
       "    <tr>\n",
       "      <td>4</td>\n",
       "      <td>Jordi</td>\n",
       "      <td>H</td>\n",
       "      <td>1.7</td>\n",
       "    </tr>\n",
       "    <tr>\n",
       "      <td>5</td>\n",
       "      <td>Marta</td>\n",
       "      <td>M</td>\n",
       "      <td>1.6</td>\n",
       "    </tr>\n",
       "  </tbody>\n",
       "</table>\n",
       "</div>"
      ],
      "text/plain": [
       "  nombres sexo  altura\n",
       "0    Marc    H     1.8\n",
       "1    Anna    M     1.7\n",
       "2   Maria    M     1.5\n",
       "3   Paula    M     1.7\n",
       "4   Jordi    H     1.7\n",
       "5   Marta    M     1.6"
      ]
     },
     "execution_count": 11,
     "metadata": {},
     "output_type": "execute_result"
    }
   ],
   "source": [
    "# Supongamos que es el caso contrario. Tenemos unos datos y sospechamos que tienen una distribución normal. \n",
    "# Vamos a calcular mu y sigma.\n",
    "dict_aula = {'nombres': ['Marc', 'Anna', 'Maria', 'Paula', 'Jordi', 'Marta'],\n",
    "             'sexo': ['H', 'M', 'M', 'M', 'H', 'M'],\n",
    "             'altura': [1.8, 1.7, 1.5, 1.7, 1.7, 1.6]}\n",
    "\n",
    "df_aula = pd.DataFrame(dict_aula)\n",
    "df_aula"
   ]
  },
  {
   "cell_type": "code",
   "execution_count": 12,
   "metadata": {},
   "outputs": [
    {
     "name": "stdout",
     "output_type": "stream",
     "text": [
      "1.6666666666666667 0.10327955589886445\n"
     ]
    }
   ],
   "source": [
    "mu = df_aula['altura'].mean()\n",
    "sigma = df_aula['altura'].std()\n",
    "print(mu, sigma)"
   ]
  },
  {
   "cell_type": "markdown",
   "metadata": {},
   "source": [
    "# Distribución exponencial\n",
    "Diremos que X tiene una distribución exponencial si estudia el tiempo que pasa entre dos sucesos consecutivos de una distribución de Poisson.\n",
    "\n",
    "Mientras que la distribución de Poisson describe las llegadas por unidad de tiempo, la distribución exponencial estudia el tiempo entre cada una de estas llegadas. La distribución de Poisson es discreta, pero la distribución exponencial es continua porque el tiempo entre llegadas no tiene que ser un número entero. \n",
    "\n",
    "En el ejemplo de la última clase, la poisson miraba cuantos emails por hora, mientras que una exponencial serviría para mirar cuanto tiempo entre emails."
   ]
  },
  {
   "cell_type": "code",
   "execution_count": 13,
   "metadata": {},
   "outputs": [
    {
     "data": {
      "text/plain": [
       "0.3342418617938393"
      ]
     },
     "execution_count": 13,
     "metadata": {},
     "output_type": "execute_result"
    }
   ],
   "source": [
    "# Ejemplo: La bateria de un modelo de movil falla despues de 365 días de uso.\n",
    "#     Cual es la probabilidad de que aguante más de 400 días sin fallar?\n",
    "\n",
    "# igual que con la poisson, necesitamos calcular lambda. En este caso lambda es el tiempo de la ocurrencia = 365 dias\n",
    "\n",
    "lmbda = 365\n",
    "1 - stats.expon.cdf(400, 0, lmbda) # Siempre te dice la probabilidad de que falle antes del dia que le has puesto"
   ]
  },
  {
   "cell_type": "code",
   "execution_count": 14,
   "metadata": {},
   "outputs": [
    {
     "data": {
      "text/plain": [
       "0.01782189265922607"
      ]
     },
     "execution_count": 14,
     "metadata": {},
     "output_type": "execute_result"
    }
   ],
   "source": [
    "# Cual es la probabilidad de que falle entre el día 400 y el dia 420?\n",
    "\n",
    "stats.expon.cdf(420, 0, lmbda) - stats.expon.cdf(400, 0, lmbda)"
   ]
  },
  {
   "cell_type": "code",
   "execution_count": 15,
   "metadata": {},
   "outputs": [
    {
     "data": {
      "text/plain": [
       "array([273.56332283, 798.56851074,  26.03095746, ...,  22.17964347,\n",
       "       208.96533258, 120.21409951])"
      ]
     },
     "execution_count": 15,
     "metadata": {},
     "output_type": "execute_result"
    }
   ],
   "source": [
    "muestra = 10000\n",
    "resultados_movil = stats.expon.rvs(0, lmbda, size=muestra)\n",
    "resultados_movil"
   ]
  },
  {
   "cell_type": "code",
   "execution_count": 16,
   "metadata": {},
   "outputs": [
    {
     "data": {
      "image/png": "[encoded data removed]",
      "text/plain": [
       "<Figure size 432x288 with 1 Axes>"
      ]
     },
     "metadata": {
      "needs_background": "light"
     },
     "output_type": "display_data"
    }
   ],
   "source": [
    "plt.hist(resultados_movil, bins = 30)\n",
    "# Cada vegada n'aguanten menys\n",
    "# Que fallin despres de 0 dies, tots\n",
    "# Que fallin despres de 100 dies, quasi tots\n",
    "# Que fallin despres de 500 dies, pocs\n",
    "plt.show()"
   ]
  },
  {
   "cell_type": "markdown",
   "metadata": {},
   "source": [
    "# Ejemplo\n",
    "La altura de los de la clase, la duración de la batería de un movil, ... son ejemplos teoricos de las distribuciones.\n",
    "\n",
    "A la practica tendremos un histograma y segun la forma tenemos que deducir que distribución tienen esos datos.\n",
    "\n",
    "Vamos a ver un ejemplo con una distribución normal, puesto que es la más típica.\n",
    "\n",
    "Con el pairplot ver todos los histogramas y decidir que variables tienen una distribucion más normal. \n",
    "\n",
    "Estudiar la distribución normal de \"metros\" y \"precio\".\n",
    "  - Calcular mu y sigma.\n",
    "  - Generar una distribución normal con esos parámetros y comparar los histogramas.\n",
    "  - Si escojo un piso al azar, cual es la probabilidad de que tenga mas de 100m2?\n",
    "  - Si escojo un piso al azar, cual es la probabilidad de que cueste entre 100.000€ y 200.000€?"
   ]
  },
  {
   "cell_type": "code",
   "execution_count": 17,
   "metadata": {},
   "outputs": [],
   "source": [
    "casas = pd.read_csv('datasets/house_pricing.csv')"
   ]
  },
  {
   "cell_type": "code",
   "execution_count": 18,
   "metadata": {},
   "outputs": [
    {
     "data": {
      "image/png": "[encoded data removed]",
      "text/plain": [
       "<Figure size 432x288 with 1 Axes>"
      ]
     },
     "metadata": {
      "needs_background": "light"
     },
     "output_type": "display_data"
    }
   ],
   "source": [
    "plt.hist(casas['precio'], bins = 30)\n",
    "plt.show()"
   ]
  },
  {
   "cell_type": "code",
   "execution_count": null,
   "metadata": {},
   "outputs": [],
   "source": []
  }
 ],
 "metadata": {
  "kernelspec": {
   "display_name": "Python 3",
   "language": "python",
   "name": "python3"
  },
  "language_info": {
   "codemirror_mode": {
    "name": "ipython",
    "version": 3
   },
   "file_extension": ".py",
   "mimetype": "text/x-python",
   "name": "python",
   "nbconvert_exporter": "python",
   "pygments_lexer": "ipython3",
   "version": "3.8.5"
  }
 },
 "nbformat": 4,
 "nbformat_minor": 4
}
