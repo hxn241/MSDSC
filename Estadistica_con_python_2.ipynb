{
 "cells": [
  {
   "cell_type": "markdown",
   "metadata": {},
   "source": [
    "# Probabilidad - Variables aleatorias discretas\n",
    "\n",
    "X es una variable aleatoria discreta si toma valores en un conjunto numerable (finito) x1, ..., xn.\n",
    "\n",
    "Ej. \n",
    "  - Moneda: x1 = cara, x2 = cruz\n",
    "  - Dado: x1 = 1, x2 = 2, ..., x6 = 6\n",
    "  \n",
    "Función de probabilidad: asocia una probabilidad a cada posible valor de X, p1, ..., pn.\n",
    "\n",
    "Ej.\n",
    "  - Moneda: P(X = x1) = p1 = 0.5, p2 = 0.5\n",
    "  - Dado: P(X = x1) = p1 = 1/6, p2 = p3 = ... = p6 = 1/6\n",
    "  \n",
    "Se cumple:\n",
    "  - pi < 1\n",
    "  - p1 + ... + pn = 1"
   ]
  },
  {
   "cell_type": "code",
   "execution_count": 1,
   "metadata": {},
   "outputs": [],
   "source": [
    "import numpy as np\n",
    "import pandas as pd\n",
    "from scipy import stats\n",
    "from matplotlib import pyplot as plt\n",
    "\n",
    "%matplotlib inline"
   ]
  },
  {
   "cell_type": "markdown",
   "metadata": {},
   "source": [
    "## Distribución uniforme discreta"
   ]
  },
  {
   "cell_type": "code",
   "execution_count": 2,
   "metadata": {},
   "outputs": [],
   "source": [
    "# p1 = 0.5, p2 = 0.5\n",
    "# p1 = 1/6, p2 = ... = p6 = 1/6"
   ]
  },
  {
   "cell_type": "code",
   "execution_count": 3,
   "metadata": {},
   "outputs": [
    {
     "data": {
      "text/plain": [
       "5"
      ]
     },
     "execution_count": 3,
     "metadata": {},
     "output_type": "execute_result"
    }
   ],
   "source": [
    "int(np.random.uniform(1, 7))"
   ]
  },
  {
   "cell_type": "code",
   "execution_count": 4,
   "metadata": {
    "scrolled": true
   },
   "outputs": [
    {
     "data": {
      "text/plain": [
       "array([6, 3, 4, ..., 5, 3, 1])"
      ]
     },
     "execution_count": 4,
     "metadata": {},
     "output_type": "execute_result"
    }
   ],
   "source": [
    "muestra = 100000\n",
    "resultado_dado = np.random.uniform(1, 7, size=muestra)\n",
    "resultado_dado = resultado_dado.astype(int)\n",
    "resultado_dado"
   ]
  },
  {
   "cell_type": "code",
   "execution_count": 5,
   "metadata": {},
   "outputs": [
    {
     "name": "stdout",
     "output_type": "stream",
     "text": [
      "[1 2 3 4 5 6]\n",
      "[16651 16801 16657 16610 16605 16676]\n",
      "[0.16651 0.16801 0.16657 0.1661  0.16605 0.16676]\n"
     ]
    }
   ],
   "source": [
    "numeros, repeticiones = np.unique(resultado_dado, return_counts=True)\n",
    "print(numeros)\n",
    "print(repeticiones)\n",
    "print(repeticiones/muestra)"
   ]
  },
  {
   "cell_type": "code",
   "execution_count": 6,
   "metadata": {},
   "outputs": [
    {
     "data": {
      "text/plain": [
       "<BarContainer object of 6 artists>"
      ]
     },
     "execution_count": 6,
     "metadata": {},
     "output_type": "execute_result"
    },
    {
     "data": {
      "image/png": "[encoded data removed]",
      "text/plain": [
       "<Figure size 432x288 with 1 Axes>"
      ]
     },
     "metadata": {
      "needs_background": "light"
     },
     "output_type": "display_data"
    }
   ],
   "source": [
    "plt.bar(numeros, repeticiones/muestra)"
   ]
  },
  {
   "cell_type": "markdown",
   "metadata": {},
   "source": [
    "## Distribución de Bernoulli(p)"
   ]
  },
  {
   "cell_type": "code",
   "execution_count": 7,
   "metadata": {},
   "outputs": [],
   "source": [
    "# P(X = aprobar) = 0.8, P(X = suspender) = 0.2\n",
    "# Bernouilli(p), p = probabilidad de exito, q = 1-p = probabilidad de fracaso"
   ]
  },
  {
   "cell_type": "code",
   "execution_count": 8,
   "metadata": {
    "scrolled": true
   },
   "outputs": [
    {
     "data": {
      "text/plain": [
       "array([1, 1, 0, ..., 0, 1, 0])"
      ]
     },
     "execution_count": 8,
     "metadata": {},
     "output_type": "execute_result"
    }
   ],
   "source": [
    "muestra = 100000\n",
    "p = 0.8\n",
    "resultados_alumnos = stats.bernoulli.rvs(p, size=muestra)\n",
    "resultados_alumnos"
   ]
  },
  {
   "cell_type": "code",
   "execution_count": 9,
   "metadata": {},
   "outputs": [
    {
     "name": "stdout",
     "output_type": "stream",
     "text": [
      "[0 1]\n",
      "[20054 79946]\n",
      "[0.20054 0.79946]\n"
     ]
    }
   ],
   "source": [
    "numeros, repeticiones = np.unique(resultados_alumnos, return_counts=True)\n",
    "print(numeros)\n",
    "print(repeticiones)\n",
    "print(repeticiones/muestra)"
   ]
  },
  {
   "cell_type": "code",
   "execution_count": 10,
   "metadata": {},
   "outputs": [
    {
     "data": {
      "text/plain": [
       "<BarContainer object of 2 artists>"
      ]
     },
     "execution_count": 10,
     "metadata": {},
     "output_type": "execute_result"
    },
    {
     "data": {
      "image/png": "[encoded data removed]",
      "text/plain": [
       "<Figure size 432x288 with 1 Axes>"
      ]
     },
     "metadata": {
      "needs_background": "light"
     },
     "output_type": "display_data"
    }
   ],
   "source": [
    "plt.bar(numeros, repeticiones/muestra)"
   ]
  },
  {
   "cell_type": "markdown",
   "metadata": {},
   "source": [
    "## Distribución Binomial(n, p)"
   ]
  },
  {
   "cell_type": "code",
   "execution_count": 11,
   "metadata": {},
   "outputs": [
    {
     "data": {
      "text/plain": [
       "0.04394531249999999"
      ]
     },
     "execution_count": 11,
     "metadata": {},
     "output_type": "execute_result"
    }
   ],
   "source": [
    "n = 10\n",
    "p = 0.5\n",
    "\n",
    "stats.binom.pmf(2, n, p)"
   ]
  },
  {
   "cell_type": "code",
   "execution_count": 12,
   "metadata": {},
   "outputs": [
    {
     "data": {
      "text/plain": [
       "1.0000000000000009"
      ]
     },
     "execution_count": 12,
     "metadata": {},
     "output_type": "execute_result"
    }
   ],
   "source": [
    "# stats.binom.pmf(0, n, p) + stats.binom.pmf(1, n, p) + ... + stats.binom.pmf(10, n, p)\n",
    "\n",
    "suma_prob = 0\n",
    "for i in range(0, n+1):\n",
    "    suma_prob+=stats.binom.pmf(i, n, p)\n",
    "\n",
    "suma_prob"
   ]
  },
  {
   "cell_type": "code",
   "execution_count": 13,
   "metadata": {},
   "outputs": [
    {
     "data": {
      "text/plain": [
       "array([8, 6, 6, ..., 8, 2, 4])"
      ]
     },
     "execution_count": 13,
     "metadata": {},
     "output_type": "execute_result"
    }
   ],
   "source": [
    "muestra = 100000\n",
    "resultados_moneda = stats.binom.rvs(n, p, size=muestra)\n",
    "resultados_moneda"
   ]
  },
  {
   "cell_type": "code",
   "execution_count": 14,
   "metadata": {},
   "outputs": [
    {
     "name": "stdout",
     "output_type": "stream",
     "text": [
      "[ 0  1  2  3  4  5  6  7  8  9 10]\n",
      "[  104   976  4371 11780 20287 24979 20424 11629  4376   966   108]\n",
      "[0.00104 0.00976 0.04371 0.1178  0.20287 0.24979 0.20424 0.11629 0.04376\n",
      " 0.00966 0.00108]\n"
     ]
    }
   ],
   "source": [
    "numeros, repeticiones = np.unique(resultados_moneda, return_counts=True)\n",
    "print(numeros)\n",
    "print(repeticiones)\n",
    "print(repeticiones/muestra)"
   ]
  },
  {
   "cell_type": "code",
   "execution_count": 15,
   "metadata": {},
   "outputs": [
    {
     "data": {
      "text/plain": [
       "<BarContainer object of 11 artists>"
      ]
     },
     "execution_count": 15,
     "metadata": {},
     "output_type": "execute_result"
    },
    {
     "data": {
      "image/png": "[encoded data removed]",
      "text/plain": [
       "<Figure size 432x288 with 1 Axes>"
      ]
     },
     "metadata": {
      "needs_background": "light"
     },
     "output_type": "display_data"
    }
   ],
   "source": [
    "plt.bar(numeros, repeticiones/muestra)"
   ]
  },
  {
   "cell_type": "markdown",
   "metadata": {},
   "source": [
    "## Distribucion de Poisson(lambda)"
   ]
  },
  {
   "cell_type": "code",
   "execution_count": 16,
   "metadata": {},
   "outputs": [
    {
     "data": {
      "text/plain": [
       "0.08583037040867346"
      ]
     },
     "execution_count": 16,
     "metadata": {},
     "output_type": "execute_result"
    }
   ],
   "source": [
    "# Ej. La kschool recibe 60 emails diarios.\n",
    "# Maximo se pueden contestar 9 emails/hora (8horas)\n",
    "# Cual es la prob de que en 1h se reciban 10 emails\n",
    "\n",
    "lmbda = 60/8\n",
    "\n",
    "stats.poisson.pmf(10, lmbda)"
   ]
  },
  {
   "cell_type": "code",
   "execution_count": 17,
   "metadata": {},
   "outputs": [
    {
     "data": {
      "text/plain": [
       "0.9999999999999991"
      ]
     },
     "execution_count": 17,
     "metadata": {},
     "output_type": "execute_result"
    }
   ],
   "source": [
    "suma_prob = 0\n",
    "for i in range(0, 61):\n",
    "    suma_prob+=stats.poisson.pmf(i, lmbda)\n",
    "    \n",
    "suma_prob"
   ]
  },
  {
   "cell_type": "code",
   "execution_count": 18,
   "metadata": {},
   "outputs": [
    {
     "data": {
      "text/plain": [
       "array([ 5,  7,  4, ..., 10, 14,  4])"
      ]
     },
     "execution_count": 18,
     "metadata": {},
     "output_type": "execute_result"
    }
   ],
   "source": [
    "muestra = 10000000\n",
    "resultado_emails = stats.poisson.rvs(lmbda, size=muestra)\n",
    "resultado_emails"
   ]
  },
  {
   "cell_type": "code",
   "execution_count": 19,
   "metadata": {},
   "outputs": [
    {
     "name": "stdout",
     "output_type": "stream",
     "text": [
      "[ 0  1  2  3  4  5  6  7  8  9 10 11 12 13 14 15 16 17 18 19 20 21 22 23\n",
      " 24 25 26]\n",
      "[   5547   41383  155545  388366  728422 1093173 1368822 1463552 1374608\n",
      " 1144989  856975  585156  366134  211448  113153   56675   26474   11574\n",
      "    5003    1884     727     271      83      22       6       6       2]\n",
      "[5.547000e-04 4.138300e-03 1.555450e-02 3.883660e-02 7.284220e-02\n",
      " 1.093173e-01 1.368822e-01 1.463552e-01 1.374608e-01 1.144989e-01\n",
      " 8.569750e-02 5.851560e-02 3.661340e-02 2.114480e-02 1.131530e-02\n",
      " 5.667500e-03 2.647400e-03 1.157400e-03 5.003000e-04 1.884000e-04\n",
      " 7.270000e-05 2.710000e-05 8.300000e-06 2.200000e-06 6.000000e-07\n",
      " 6.000000e-07 2.000000e-07]\n"
     ]
    }
   ],
   "source": [
    "numeros, repeticiones = np.unique(resultado_emails, return_counts=True)\n",
    "print(numeros)\n",
    "print(repeticiones)\n",
    "print(repeticiones/muestra)"
   ]
  },
  {
   "cell_type": "code",
   "execution_count": 20,
   "metadata": {},
   "outputs": [
    {
     "data": {
      "text/plain": [
       "7.5008951"
      ]
     },
     "execution_count": 20,
     "metadata": {},
     "output_type": "execute_result"
    }
   ],
   "source": [
    "np.mean(resultado_emails)"
   ]
  },
  {
   "cell_type": "code",
   "execution_count": 21,
   "metadata": {},
   "outputs": [
    {
     "data": {
      "text/plain": [
       "<BarContainer object of 27 artists>"
      ]
     },
     "execution_count": 21,
     "metadata": {},
     "output_type": "execute_result"
    },
    {
     "data": {
      "image/png": "[encoded data removed]",
      "text/plain": [
       "<Figure size 432x288 with 1 Axes>"
      ]
     },
     "metadata": {
      "needs_background": "light"
     },
     "output_type": "display_data"
    }
   ],
   "source": [
    "plt.bar(numeros, repeticiones/muestra)"
   ]
  },
  {
   "cell_type": "markdown",
   "metadata": {},
   "source": [
    "# Ejemplo\n",
    "\n",
    " - casa_unifamiliar\n",
    " - habitaciones\n",
    " \n",
    "Ejercicio:\n",
    " - Encontrar la distribución\n",
    " - Encontrar los parámetros de la distribución\n",
    " - Si escojo un piso al azar, cual es la probabilidad de que sea una vivienda unifamiliar?\n",
    " - Si escojo un piso al azar, cual es la probabilidad de que tenga exactamente 3 habitaciones? y de que tenga más de 6 habitaciones?"
   ]
  },
  {
   "cell_type": "code",
   "execution_count": 44,
   "metadata": {},
   "outputs": [],
   "source": [
    "casas = pd.read_csv('house_pricing.csv')"
   ]
  },
  {
   "cell_type": "code",
   "execution_count": 45,
   "metadata": {},
   "outputs": [
    {
     "data": {
      "text/plain": [
       "<BarContainer object of 2 artists>"
      ]
     },
     "execution_count": 45,
     "metadata": {},
     "output_type": "execute_result"
    },
    {
     "data": {
      "image/png": "[encoded data removed]",
      "text/plain": [
       "<Figure size 432x288 with 1 Axes>"
      ]
     },
     "metadata": {
      "needs_background": "light"
     },
     "output_type": "display_data"
    }
   ],
   "source": [
    "freq = casas['casa_unifamiliar'].value_counts()\n",
    "plt.bar(freq.index.values, freq)"
   ]
  },
  {
   "cell_type": "code",
   "execution_count": 24,
   "metadata": {},
   "outputs": [
    {
     "data": {
      "text/plain": [
       "0.0    0.93083\n",
       "1.0    0.06917\n",
       "Name: casa_unifamiliar, dtype: float64"
      ]
     },
     "execution_count": 24,
     "metadata": {},
     "output_type": "execute_result"
    }
   ],
   "source": [
    "# casa_unifamiliar ~ Bernoulli(0.07)\n",
    "freq/len(casas)"
   ]
  },
  {
   "cell_type": "code",
   "execution_count": 46,
   "metadata": {},
   "outputs": [],
   "source": [
    "muestra = 1000000\n",
    "p = 0.07\n",
    "\n",
    "resultado = stats.bernoulli.rvs(p, size=muestra)\n",
    "numero, repeticiones = np.unique(resultado, return_counts=True)"
   ]
  },
  {
   "cell_type": "code",
   "execution_count": 26,
   "metadata": {},
   "outputs": [
    {
     "data": {
      "text/plain": [
       "Text(0.5, 1.0, 'Sample')"
      ]
     },
     "execution_count": 26,
     "metadata": {},
     "output_type": "execute_result"
    },
    {
     "data": {
      "image/png": "[encoded data removed]",
      "text/plain": [
       "<Figure size 1080x360 with 2 Axes>"
      ]
     },
     "metadata": {
      "needs_background": "light"
     },
     "output_type": "display_data"
    }
   ],
   "source": [
    "fig, ax = plt.subplots(1, 2, figsize = (15, 5))\n",
    "ax[0].bar([0,1], freq/len(casas))\n",
    "ax[0].set_title('Real data')\n",
    "ax[1].bar([0,1], repeticiones/muestra, alpha = 0.3)\n",
    "ax[1].set_title('Sample')"
   ]
  },
  {
   "cell_type": "code",
   "execution_count": 27,
   "metadata": {},
   "outputs": [],
   "source": [
    "# La probabilidad de que si escojo una vivienda al azar esta sea unifamiliar, es de 7%"
   ]
  },
  {
   "cell_type": "code",
   "execution_count": 28,
   "metadata": {},
   "outputs": [
    {
     "data": {
      "text/plain": [
       "<BarContainer object of 7 artists>"
      ]
     },
     "execution_count": 28,
     "metadata": {},
     "output_type": "execute_result"
    },
    {
     "data": {
      "image/png": "[encoded data removed]",
      "text/plain": [
       "<Figure size 432x288 with 1 Axes>"
      ]
     },
     "metadata": {
      "needs_background": "light"
     },
     "output_type": "display_data"
    }
   ],
   "source": [
    "freq = casas['habitaciones'].value_counts()\n",
    "plt.bar(freq.index.values, freq)"
   ]
  },
  {
   "cell_type": "code",
   "execution_count": 29,
   "metadata": {},
   "outputs": [
    {
     "data": {
      "text/plain": [
       "3.2430830039525693"
      ]
     },
     "execution_count": 29,
     "metadata": {},
     "output_type": "execute_result"
    }
   ],
   "source": [
    "lmbda = casas['habitaciones'].mean()\n",
    "lmbda"
   ]
  },
  {
   "cell_type": "code",
   "execution_count": 30,
   "metadata": {},
   "outputs": [],
   "source": [
    "muestra = 100000\n",
    "resultado = stats.poisson.rvs(lmbda, size=muestra)\n",
    "numeros, repeticiones = np.unique(resultado, return_counts=True)"
   ]
  },
  {
   "cell_type": "code",
   "execution_count": 31,
   "metadata": {},
   "outputs": [
    {
     "data": {
      "text/plain": [
       "Text(0.5, 1.0, 'Sample')"
      ]
     },
     "execution_count": 31,
     "metadata": {},
     "output_type": "execute_result"
    },
    {
     "data": {
      "image/png": "[encoded data removed]",
      "text/plain": [
       "<Figure size 1080x360 with 2 Axes>"
      ]
     },
     "metadata": {
      "needs_background": "light"
     },
     "output_type": "display_data"
    }
   ],
   "source": [
    "fig, ax = plt.subplots(1, 2, figsize = (15, 5))\n",
    "ax[0].bar(freq.index.values, freq/sum(freq))\n",
    "ax[0].set_title('Real data')\n",
    "ax[1].bar(numeros, repeticiones/muestra, alpha = 0.3)\n",
    "ax[1].set_title('Sample')"
   ]
  },
  {
   "cell_type": "code",
   "execution_count": 32,
   "metadata": {},
   "outputs": [
    {
     "data": {
      "text/plain": [
       "0.2219575330951537"
      ]
     },
     "execution_count": 32,
     "metadata": {},
     "output_type": "execute_result"
    }
   ],
   "source": [
    "stats.poisson.pmf(3, lmbda)"
   ]
  },
  {
   "cell_type": "code",
   "execution_count": 33,
   "metadata": {},
   "outputs": [
    {
     "data": {
      "text/plain": [
       "0.11037791464242636"
      ]
     },
     "execution_count": 33,
     "metadata": {},
     "output_type": "execute_result"
    }
   ],
   "source": [
    "suma_prob = 0\n",
    "for i in range(6, 20):\n",
    "    suma_prob+=stats.poisson.pmf(i, lmbda)\n",
    "    \n",
    "suma_prob"
   ]
  },
  {
   "cell_type": "code",
   "execution_count": 34,
   "metadata": {},
   "outputs": [],
   "source": [
    "# La probabilidad de que un piso tenga 3hab es de 22%, y la prob de que un piso tenga 6 o mas habitaciones es del 11%."
   ]
  },
  {
   "cell_type": "code",
   "execution_count": 35,
   "metadata": {},
   "outputs": [
    {
     "data": {
      "text/plain": [
       "0.11037791495633181"
      ]
     },
     "execution_count": 35,
     "metadata": {},
     "output_type": "execute_result"
    }
   ],
   "source": [
    "1 - stats.poisson.pmf(0, lmbda) - stats.poisson.pmf(1, lmbda) - stats.poisson.pmf(2, lmbda) - stats.poisson.pmf(3, lmbda) - stats.poisson.pmf(4, lmbda) - stats.poisson.pmf(5, lmbda)"
   ]
  },
  {
   "cell_type": "markdown",
   "metadata": {},
   "source": [
    "# Variables aleatorias continuas\n",
    "\n",
    "Funcion de distribucion F(X) -> prob(60 < x < 80)\n",
    "\n",
    "Se cumple:\n",
    "  - en cada intervalo prob < 1\n",
    "  - en el intervalo prob = 1"
   ]
  },
  {
   "cell_type": "markdown",
   "metadata": {},
   "source": [
    "## distribucion Normal(mu, sigma)"
   ]
  },
  {
   "cell_type": "code",
   "execution_count": 36,
   "metadata": {},
   "outputs": [
    {
     "data": {
      "text/plain": [
       "0.7475074624530773"
      ]
     },
     "execution_count": 36,
     "metadata": {},
     "output_type": "execute_result"
    }
   ],
   "source": [
    "mu = 1.7\n",
    "sigma = 0.15\n",
    "\n",
    "stats.norm.cdf(1.8, mu, sigma) # probabilidad de que mida 1.8 o menos"
   ]
  },
  {
   "cell_type": "code",
   "execution_count": 37,
   "metadata": {},
   "outputs": [
    {
     "data": {
      "text/plain": [
       "0.09121121972586788"
      ]
     },
     "execution_count": 37,
     "metadata": {},
     "output_type": "execute_result"
    }
   ],
   "source": [
    "# probabilidad de que mida mas de 1.9 (= 1 - prob de que mida menos de 1.9)\n",
    "1 - stats.norm.cdf(1.9, mu, sigma)"
   ]
  },
  {
   "cell_type": "code",
   "execution_count": 38,
   "metadata": {},
   "outputs": [
    {
     "data": {
      "text/plain": [
       "0.16128131782105481"
      ]
     },
     "execution_count": 38,
     "metadata": {},
     "output_type": "execute_result"
    }
   ],
   "source": [
    "# probabilidad de que mida entre 1.8 y 1.9\n",
    "stats.norm.cdf(1.9, mu, sigma) - stats.norm.cdf(1.8, mu, sigma)"
   ]
  },
  {
   "cell_type": "code",
   "execution_count": 39,
   "metadata": {},
   "outputs": [
    {
     "data": {
      "text/plain": [
       "array([1.55750554, 1.88028642, 1.54602514, ..., 1.8767628 , 1.7233668 ,\n",
       "       1.54176647])"
      ]
     },
     "execution_count": 39,
     "metadata": {},
     "output_type": "execute_result"
    }
   ],
   "source": [
    "muestra = 100000\n",
    "resultado_altura = stats.norm.rvs(mu, sigma, size=muestra)\n",
    "resultado_altura"
   ]
  },
  {
   "cell_type": "code",
   "execution_count": 40,
   "metadata": {},
   "outputs": [
    {
     "data": {
      "image/png": "[encoded data removed]",
      "text/plain": [
       "<Figure size 432x288 with 1 Axes>"
      ]
     },
     "metadata": {
      "needs_background": "light"
     },
     "output_type": "display_data"
    }
   ],
   "source": [
    "plt.hist(resultado_altura, bins = 30);"
   ]
  },
  {
   "cell_type": "code",
   "execution_count": 41,
   "metadata": {},
   "outputs": [
    {
     "data": {
      "image/png": "[encoded data removed]",
      "text/plain": [
       "<Figure size 432x288 with 1 Axes>"
      ]
     },
     "metadata": {
      "needs_background": "light"
     },
     "output_type": "display_data"
    }
   ],
   "source": [
    "mu = 1.7\n",
    "sigma = 0.00001\n",
    "resultado_altura = stats.norm.rvs(mu, sigma, size=muestra)\n",
    "plt.hist(resultado_altura, bins = 30);"
   ]
  },
  {
   "cell_type": "code",
   "execution_count": 42,
   "metadata": {},
   "outputs": [
    {
     "data": {
      "image/png": "[encoded data removed]",
      "text/plain": [
       "<Figure size 432x288 with 1 Axes>"
      ]
     },
     "metadata": {
      "needs_background": "light"
     },
     "output_type": "display_data"
    }
   ],
   "source": [
    "plt.hist(casas['precio'], bins = 30);"
   ]
  },
  {
   "cell_type": "code",
   "execution_count": 43,
   "metadata": {},
   "outputs": [
    {
     "data": {
      "image/png": "[encoded data removed]",
      "text/plain": [
       "<Figure size 432x288 with 1 Axes>"
      ]
     },
     "metadata": {
      "needs_background": "light"
     },
     "output_type": "display_data"
    }
   ],
   "source": [
    "mu = casas['precio'].mean()\n",
    "sigma = casas['precio'].std()\n",
    "\n",
    "muestra = 100000\n",
    "resultado = stats.norm.rvs(mu, sigma, size=muestra)\n",
    "plt.hist(resultado, bins = 30, alpha=0.3);"
   ]
  },
  {
   "cell_type": "code",
   "execution_count": null,
   "metadata": {},
   "outputs": [],
   "source": []
  },
  {
   "cell_type": "code",
   "execution_count": null,
   "metadata": {},
   "outputs": [],
   "source": []
  }
 ],
 "metadata": {
  "kernelspec": {
   "display_name": "Python 3",
   "language": "python",
   "name": "python3"
  },
  "language_info": {
   "codemirror_mode": {
    "name": "ipython",
    "version": 3
   },
   "file_extension": ".py",
   "mimetype": "text/x-python",
   "name": "python",
   "nbconvert_exporter": "python",
   "pygments_lexer": "ipython3",
   "version": "3.8.5"
  }
 },
 "nbformat": 4,
 "nbformat_minor": 4
}
