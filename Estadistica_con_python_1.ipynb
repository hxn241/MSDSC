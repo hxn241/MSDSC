{
 "cells": [
  {
   "cell_type": "markdown",
   "metadata": {},
   "source": [
    "# Tipos de variables"
   ]
  },
  {
   "cell_type": "code",
   "execution_count": 1,
   "metadata": {},
   "outputs": [],
   "source": [
    "import numpy as np\n",
    "import pandas as pd\n",
    "from matplotlib import pyplot as plt\n",
    "\n",
    "%matplotlib inline"
   ]
  },
  {
   "cell_type": "markdown",
   "metadata": {},
   "source": [
    "## Variables categóricas\n",
    "\n",
    " - Numero limitado de categorías.\n",
    " - Petencen a un grupo si o no.\n",
    " - No tienen sentido grupos intermedios.\n",
    " - Pueden tener orden o no.\n",
    "\n",
    "Ej. Nacionalidad, sexo, especie, colores, número de habitaciones en un piso, ..."
   ]
  },
  {
   "cell_type": "code",
   "execution_count": 2,
   "metadata": {
    "scrolled": true
   },
   "outputs": [
    {
     "data": {
      "text/html": [
       "<div>\n",
       "<style scoped>\n",
       "    .dataframe tbody tr th:only-of-type {\n",
       "        vertical-align: middle;\n",
       "    }\n",
       "\n",
       "    .dataframe tbody tr th {\n",
       "        vertical-align: top;\n",
       "    }\n",
       "\n",
       "    .dataframe thead th {\n",
       "        text-align: right;\n",
       "    }\n",
       "</style>\n",
       "<table border=\"1\" class=\"dataframe\">\n",
       "  <thead>\n",
       "    <tr style=\"text-align: right;\">\n",
       "      <th></th>\n",
       "      <th>nombres</th>\n",
       "      <th>sexo</th>\n",
       "      <th>sexo_2</th>\n",
       "    </tr>\n",
       "  </thead>\n",
       "  <tbody>\n",
       "    <tr>\n",
       "      <th>0</th>\n",
       "      <td>Juan</td>\n",
       "      <td>H</td>\n",
       "      <td>0</td>\n",
       "    </tr>\n",
       "    <tr>\n",
       "      <th>1</th>\n",
       "      <td>Ana</td>\n",
       "      <td>M</td>\n",
       "      <td>1</td>\n",
       "    </tr>\n",
       "    <tr>\n",
       "      <th>2</th>\n",
       "      <td>Alba</td>\n",
       "      <td>M</td>\n",
       "      <td>1</td>\n",
       "    </tr>\n",
       "    <tr>\n",
       "      <th>3</th>\n",
       "      <td>Marta</td>\n",
       "      <td>M</td>\n",
       "      <td>1</td>\n",
       "    </tr>\n",
       "    <tr>\n",
       "      <th>4</th>\n",
       "      <td>Miguel</td>\n",
       "      <td>H</td>\n",
       "      <td>0</td>\n",
       "    </tr>\n",
       "    <tr>\n",
       "      <th>5</th>\n",
       "      <td>Cristina</td>\n",
       "      <td>M</td>\n",
       "      <td>1</td>\n",
       "    </tr>\n",
       "  </tbody>\n",
       "</table>\n",
       "</div>"
      ],
      "text/plain": [
       "    nombres sexo  sexo_2\n",
       "0      Juan    H       0\n",
       "1       Ana    M       1\n",
       "2      Alba    M       1\n",
       "3     Marta    M       1\n",
       "4    Miguel    H       0\n",
       "5  Cristina    M       1"
      ]
     },
     "execution_count": 2,
     "metadata": {},
     "output_type": "execute_result"
    }
   ],
   "source": [
    "dict_aula = {'nombres': ['Juan', 'Ana', 'Alba', 'Marta', 'Miguel', 'Cristina'],\n",
    "             'sexo': ['H', 'M', 'M', 'M', 'H', 'M'],\n",
    "             'sexo_2': [0, 1, 1, 1, 0, 1]}\n",
    "\n",
    "df_aula = pd.DataFrame(dict_aula)\n",
    "df_aula"
   ]
  },
  {
   "cell_type": "code",
   "execution_count": 3,
   "metadata": {},
   "outputs": [
    {
     "data": {
      "text/plain": [
       "M    4\n",
       "H    2\n",
       "Name: sexo, dtype: int64"
      ]
     },
     "execution_count": 3,
     "metadata": {},
     "output_type": "execute_result"
    }
   ],
   "source": [
    "# Frecuencia\n",
    "\n",
    "freq = df_aula['sexo'].value_counts()\n",
    "freq"
   ]
  },
  {
   "cell_type": "code",
   "execution_count": 4,
   "metadata": {},
   "outputs": [
    {
     "data": {
      "text/plain": [
       "M    0.666667\n",
       "H    0.333333\n",
       "Name: sexo, dtype: float64"
      ]
     },
     "execution_count": 4,
     "metadata": {},
     "output_type": "execute_result"
    }
   ],
   "source": [
    "# Frecuencia relativa\n",
    "\n",
    "freq_rel = freq/len(df_aula)\n",
    "freq_rel"
   ]
  },
  {
   "cell_type": "code",
   "execution_count": 5,
   "metadata": {},
   "outputs": [
    {
     "data": {
      "text/plain": [
       "<BarContainer object of 2 artists>"
      ]
     },
     "execution_count": 5,
     "metadata": {},
     "output_type": "execute_result"
    },
    {
     "data": {
      "image/png": "[encoded data removed]",
      "text/plain": [
       "<Figure size 432x288 with 1 Axes>"
      ]
     },
     "metadata": {
      "needs_background": "light"
     },
     "output_type": "display_data"
    }
   ],
   "source": [
    "# Grafico de barras\n",
    "\n",
    "plt.bar(['M', 'H'], [4, 2])"
   ]
  },
  {
   "cell_type": "code",
   "execution_count": 6,
   "metadata": {},
   "outputs": [
    {
     "data": {
      "text/plain": [
       "<BarContainer object of 2 artists>"
      ]
     },
     "execution_count": 6,
     "metadata": {},
     "output_type": "execute_result"
    },
    {
     "data": {
      "image/png": "[encoded data removed]",
      "text/plain": [
       "<Figure size 432x288 with 1 Axes>"
      ]
     },
     "metadata": {
      "needs_background": "light"
     },
     "output_type": "display_data"
    }
   ],
   "source": [
    "plt.bar(freq.index.values, freq)"
   ]
  },
  {
   "cell_type": "markdown",
   "metadata": {},
   "source": [
    "## Variables numéricas\n",
    "\n",
    " - Variable continua\n",
    " - Representa una medición \n",
    " \n",
    "Ej. Altura, edad, peso, velocidad, ..."
   ]
  },
  {
   "cell_type": "code",
   "execution_count": 7,
   "metadata": {
    "scrolled": true
   },
   "outputs": [
    {
     "data": {
      "text/html": [
       "<div>\n",
       "<style scoped>\n",
       "    .dataframe tbody tr th:only-of-type {\n",
       "        vertical-align: middle;\n",
       "    }\n",
       "\n",
       "    .dataframe tbody tr th {\n",
       "        vertical-align: top;\n",
       "    }\n",
       "\n",
       "    .dataframe thead th {\n",
       "        text-align: right;\n",
       "    }\n",
       "</style>\n",
       "<table border=\"1\" class=\"dataframe\">\n",
       "  <thead>\n",
       "    <tr style=\"text-align: right;\">\n",
       "      <th></th>\n",
       "      <th>nombres</th>\n",
       "      <th>sexo</th>\n",
       "      <th>altura</th>\n",
       "    </tr>\n",
       "  </thead>\n",
       "  <tbody>\n",
       "    <tr>\n",
       "      <th>0</th>\n",
       "      <td>Juan</td>\n",
       "      <td>H</td>\n",
       "      <td>1.80</td>\n",
       "    </tr>\n",
       "    <tr>\n",
       "      <th>1</th>\n",
       "      <td>Ana</td>\n",
       "      <td>M</td>\n",
       "      <td>1.70</td>\n",
       "    </tr>\n",
       "    <tr>\n",
       "      <th>2</th>\n",
       "      <td>Alba</td>\n",
       "      <td>M</td>\n",
       "      <td>1.50</td>\n",
       "    </tr>\n",
       "    <tr>\n",
       "      <th>3</th>\n",
       "      <td>Marta</td>\n",
       "      <td>M</td>\n",
       "      <td>1.68</td>\n",
       "    </tr>\n",
       "    <tr>\n",
       "      <th>4</th>\n",
       "      <td>Miguel</td>\n",
       "      <td>H</td>\n",
       "      <td>1.82</td>\n",
       "    </tr>\n",
       "    <tr>\n",
       "      <th>5</th>\n",
       "      <td>Cristina</td>\n",
       "      <td>M</td>\n",
       "      <td>1.75</td>\n",
       "    </tr>\n",
       "  </tbody>\n",
       "</table>\n",
       "</div>"
      ],
      "text/plain": [
       "    nombres sexo  altura\n",
       "0      Juan    H    1.80\n",
       "1       Ana    M    1.70\n",
       "2      Alba    M    1.50\n",
       "3     Marta    M    1.68\n",
       "4    Miguel    H    1.82\n",
       "5  Cristina    M    1.75"
      ]
     },
     "execution_count": 7,
     "metadata": {},
     "output_type": "execute_result"
    }
   ],
   "source": [
    "dict_aula = {'nombres': ['Juan', 'Ana', 'Alba', 'Marta', 'Miguel', 'Cristina'],\n",
    "             'sexo': ['H', 'M', 'M', 'M', 'H', 'M'],\n",
    "             'altura': [1.8, 1.7, 1.5, 1.68, 1.82, 1.75]}\n",
    "\n",
    "df_aula = pd.DataFrame(dict_aula)\n",
    "df_aula"
   ]
  },
  {
   "cell_type": "code",
   "execution_count": 8,
   "metadata": {},
   "outputs": [
    {
     "name": "stdout",
     "output_type": "stream",
     "text": [
      "Media:  1.7083333333333333\n",
      "Desviación estandard:  0.11565754046609616 \n",
      "\n",
      "Min:  1.5\n",
      "Max:  1.82\n",
      "Rango:  0.32000000000000006 \n",
      "\n",
      "Q1:  1.685\n",
      "Median:  1.725\n",
      "Q3:  1.7875\n",
      "Rango interquartil:  0.10250000000000004\n"
     ]
    }
   ],
   "source": [
    "print('Media: ', df_aula['altura'].mean())\n",
    "print('Desviación estandard: ', df_aula['altura'].std(), '\\n')\n",
    "\n",
    "print('Min: ', df_aula['altura'].min())\n",
    "print('Max: ', df_aula['altura'].max())\n",
    "print('Rango: ', df_aula['altura'].max() - df_aula['altura'].min(), '\\n')\n",
    "\n",
    "print('Q1: ', df_aula['altura'].quantile(0.25))\n",
    "print('Median: ', df_aula['altura'].median())\n",
    "print('Q3: ', df_aula['altura'].quantile(0.75))\n",
    "print('Rango interquartil: ', df_aula['altura'].quantile(0.75) - df_aula['altura'].quantile(0.25))"
   ]
  },
  {
   "cell_type": "code",
   "execution_count": 9,
   "metadata": {},
   "outputs": [],
   "source": [
    "# 1.5\n",
    "# 1.68\n",
    "# ##### 25% de los valores son menores al Q1\n",
    "\n",
    "# 1.7\n",
    "# ##### 50% de los valores son menores al Q2 (o mediana)\n",
    "# 1.75\n",
    "\n",
    "# ##### 75% de los valores son menores al Q3\n",
    "# 1.8\n",
    "# 1.82"
   ]
  },
  {
   "cell_type": "code",
   "execution_count": 10,
   "metadata": {},
   "outputs": [
    {
     "data": {
      "text/plain": [
       "count    6.000000\n",
       "mean     1.708333\n",
       "std      0.115658\n",
       "min      1.500000\n",
       "25%      1.685000\n",
       "50%      1.725000\n",
       "75%      1.787500\n",
       "max      1.820000\n",
       "Name: altura, dtype: float64"
      ]
     },
     "execution_count": 10,
     "metadata": {},
     "output_type": "execute_result"
    }
   ],
   "source": [
    "df_aula['altura'].describe()"
   ]
  },
  {
   "cell_type": "code",
   "execution_count": 11,
   "metadata": {},
   "outputs": [
    {
     "data": {
      "text/plain": [
       "1.7833333333333332"
      ]
     },
     "execution_count": 11,
     "metadata": {},
     "output_type": "execute_result"
    }
   ],
   "source": [
    "# CUIDADO CON LA MEDIA\n",
    "\n",
    "# altura media de 1.78\n",
    "\n",
    "dict_aula2 = {'nombres': ['Juan', 'Ana', 'Alba', 'Marta', 'Miguel', 'Cristina'],\n",
    "             'sexo': ['H', 'M', 'M', 'M', 'H', 'M'],\n",
    "             'altura': [1.5, 1.6, 1.5, 1.6, 1.5, 3.0]}\n",
    "\n",
    "df_aula2 = pd.DataFrame(dict_aula2)\n",
    "df_aula2['altura'].mean()"
   ]
  },
  {
   "cell_type": "code",
   "execution_count": 12,
   "metadata": {
    "scrolled": true
   },
   "outputs": [
    {
     "data": {
      "text/plain": [
       "count    6.000000\n",
       "mean     1.783333\n",
       "std      0.598052\n",
       "min      1.500000\n",
       "25%      1.500000\n",
       "50%      1.550000\n",
       "75%      1.600000\n",
       "max      3.000000\n",
       "Name: altura, dtype: float64"
      ]
     },
     "execution_count": 12,
     "metadata": {},
     "output_type": "execute_result"
    }
   ],
   "source": [
    "df_aula2['altura'].describe()"
   ]
  },
  {
   "cell_type": "code",
   "execution_count": 13,
   "metadata": {},
   "outputs": [
    {
     "data": {
      "text/plain": [
       "(array([1., 0., 0., 2., 1., 2.]),\n",
       " array([1.5       , 1.55333333, 1.60666667, 1.66      , 1.71333333,\n",
       "        1.76666667, 1.82      ]),\n",
       " <BarContainer object of 6 artists>)"
      ]
     },
     "execution_count": 13,
     "metadata": {},
     "output_type": "execute_result"
    },
    {
     "data": {
      "image/png": "[encoded data removed]",
      "text/plain": [
       "<Figure size 432x288 with 1 Axes>"
      ]
     },
     "metadata": {
      "needs_background": "light"
     },
     "output_type": "display_data"
    }
   ],
   "source": [
    "# Histograma\n",
    "plt.hist(df_aula['altura'], bins = 6)"
   ]
  },
  {
   "cell_type": "code",
   "execution_count": 14,
   "metadata": {},
   "outputs": [
    {
     "data": {
      "text/plain": [
       "{'whiskers': [<matplotlib.lines.Line2D at 0x7efc9aac32e0>,\n",
       "  <matplotlib.lines.Line2D at 0x7efc9aac3640>,\n",
       "  <matplotlib.lines.Line2D at 0x7efc9aad0af0>,\n",
       "  <matplotlib.lines.Line2D at 0x7efc9aad0df0>],\n",
       " 'caps': [<matplotlib.lines.Line2D at 0x7efc9aac39a0>,\n",
       "  <matplotlib.lines.Line2D at 0x7efc9aac3d00>,\n",
       "  <matplotlib.lines.Line2D at 0x7efc9aadc130>,\n",
       "  <matplotlib.lines.Line2D at 0x7efc9aadc490>],\n",
       " 'boxes': [<matplotlib.lines.Line2D at 0x7efc9aab3f40>,\n",
       "  <matplotlib.lines.Line2D at 0x7efc9aad0790>],\n",
       " 'medians': [<matplotlib.lines.Line2D at 0x7efc9aad00a0>,\n",
       "  <matplotlib.lines.Line2D at 0x7efc9aadc7f0>],\n",
       " 'fliers': [<matplotlib.lines.Line2D at 0x7efc9aad0400>,\n",
       "  <matplotlib.lines.Line2D at 0x7efc9aadcb50>],\n",
       " 'means': []}"
      ]
     },
     "execution_count": 14,
     "metadata": {},
     "output_type": "execute_result"
    },
    {
     "data": {
      "image/png": "[encoded data removed]",
      "text/plain": [
       "<Figure size 432x288 with 1 Axes>"
      ]
     },
     "metadata": {
      "needs_background": "light"
     },
     "output_type": "display_data"
    }
   ],
   "source": [
    "# Boxplot (grafico de cajas)\n",
    "plt.boxplot([df_aula['altura'], df_aula2['altura']])"
   ]
  },
  {
   "cell_type": "code",
   "execution_count": 15,
   "metadata": {},
   "outputs": [
    {
     "data": {
      "text/plain": [
       "count    6.000000\n",
       "mean     1.708333\n",
       "std      0.115658\n",
       "min      1.500000\n",
       "25%      1.685000\n",
       "50%      1.725000\n",
       "75%      1.787500\n",
       "max      1.820000\n",
       "Name: altura, dtype: float64"
      ]
     },
     "execution_count": 15,
     "metadata": {},
     "output_type": "execute_result"
    }
   ],
   "source": [
    "# Bigotes IQR * 1.5\n",
    "\n",
    "df_aula['altura'].describe()"
   ]
  },
  {
   "cell_type": "code",
   "execution_count": 16,
   "metadata": {},
   "outputs": [
    {
     "data": {
      "text/plain": [
       "0.15375000000000005"
      ]
     },
     "execution_count": 16,
     "metadata": {},
     "output_type": "execute_result"
    }
   ],
   "source": [
    "iqr = 1.787500 - 1.685000\n",
    "iqr * 1.5"
   ]
  },
  {
   "cell_type": "markdown",
   "metadata": {},
   "source": [
    "# Combinaciones de variables"
   ]
  },
  {
   "cell_type": "markdown",
   "metadata": {},
   "source": [
    "## 2 variables categóricas"
   ]
  },
  {
   "cell_type": "code",
   "execution_count": 17,
   "metadata": {},
   "outputs": [
    {
     "data": {
      "text/html": [
       "<div>\n",
       "<style scoped>\n",
       "    .dataframe tbody tr th:only-of-type {\n",
       "        vertical-align: middle;\n",
       "    }\n",
       "\n",
       "    .dataframe tbody tr th {\n",
       "        vertical-align: top;\n",
       "    }\n",
       "\n",
       "    .dataframe thead th {\n",
       "        text-align: right;\n",
       "    }\n",
       "</style>\n",
       "<table border=\"1\" class=\"dataframe\">\n",
       "  <thead>\n",
       "    <tr style=\"text-align: right;\">\n",
       "      <th></th>\n",
       "      <th>nombres</th>\n",
       "      <th>sexo</th>\n",
       "      <th>altura</th>\n",
       "      <th>actividad_fisica</th>\n",
       "    </tr>\n",
       "  </thead>\n",
       "  <tbody>\n",
       "    <tr>\n",
       "      <th>0</th>\n",
       "      <td>Juan</td>\n",
       "      <td>H</td>\n",
       "      <td>1.80</td>\n",
       "      <td>moderada</td>\n",
       "    </tr>\n",
       "    <tr>\n",
       "      <th>1</th>\n",
       "      <td>Ana</td>\n",
       "      <td>M</td>\n",
       "      <td>1.70</td>\n",
       "      <td>alta</td>\n",
       "    </tr>\n",
       "    <tr>\n",
       "      <th>2</th>\n",
       "      <td>Alba</td>\n",
       "      <td>M</td>\n",
       "      <td>1.50</td>\n",
       "      <td>poca</td>\n",
       "    </tr>\n",
       "    <tr>\n",
       "      <th>3</th>\n",
       "      <td>Marta</td>\n",
       "      <td>M</td>\n",
       "      <td>1.68</td>\n",
       "      <td>poca</td>\n",
       "    </tr>\n",
       "    <tr>\n",
       "      <th>4</th>\n",
       "      <td>Miguel</td>\n",
       "      <td>H</td>\n",
       "      <td>1.82</td>\n",
       "      <td>alta</td>\n",
       "    </tr>\n",
       "    <tr>\n",
       "      <th>5</th>\n",
       "      <td>Cristina</td>\n",
       "      <td>M</td>\n",
       "      <td>1.75</td>\n",
       "      <td>poca</td>\n",
       "    </tr>\n",
       "  </tbody>\n",
       "</table>\n",
       "</div>"
      ],
      "text/plain": [
       "    nombres sexo  altura actividad_fisica\n",
       "0      Juan    H    1.80         moderada\n",
       "1       Ana    M    1.70             alta\n",
       "2      Alba    M    1.50             poca\n",
       "3     Marta    M    1.68             poca\n",
       "4    Miguel    H    1.82             alta\n",
       "5  Cristina    M    1.75             poca"
      ]
     },
     "execution_count": 17,
     "metadata": {},
     "output_type": "execute_result"
    }
   ],
   "source": [
    "dict_aula = {'nombres': ['Juan', 'Ana', 'Alba', 'Marta', 'Miguel', 'Cristina'],\n",
    "             'sexo': ['H', 'M', 'M', 'M', 'H', 'M'],\n",
    "             'altura': [1.8, 1.7, 1.5, 1.68, 1.82, 1.75],\n",
    "             'actividad_fisica': ['moderada', 'alta', 'poca', 'poca', 'alta', 'poca']}\n",
    "\n",
    "df_aula = pd.DataFrame(dict_aula)\n",
    "df_aula"
   ]
  },
  {
   "cell_type": "code",
   "execution_count": 18,
   "metadata": {},
   "outputs": [
    {
     "data": {
      "text/html": [
       "<div>\n",
       "<style scoped>\n",
       "    .dataframe tbody tr th:only-of-type {\n",
       "        vertical-align: middle;\n",
       "    }\n",
       "\n",
       "    .dataframe tbody tr th {\n",
       "        vertical-align: top;\n",
       "    }\n",
       "\n",
       "    .dataframe thead th {\n",
       "        text-align: right;\n",
       "    }\n",
       "</style>\n",
       "<table border=\"1\" class=\"dataframe\">\n",
       "  <thead>\n",
       "    <tr style=\"text-align: right;\">\n",
       "      <th>actividad_fisica</th>\n",
       "      <th>alta</th>\n",
       "      <th>moderada</th>\n",
       "      <th>poca</th>\n",
       "    </tr>\n",
       "    <tr>\n",
       "      <th>sexo</th>\n",
       "      <th></th>\n",
       "      <th></th>\n",
       "      <th></th>\n",
       "    </tr>\n",
       "  </thead>\n",
       "  <tbody>\n",
       "    <tr>\n",
       "      <th>H</th>\n",
       "      <td>1</td>\n",
       "      <td>1</td>\n",
       "      <td>0</td>\n",
       "    </tr>\n",
       "    <tr>\n",
       "      <th>M</th>\n",
       "      <td>1</td>\n",
       "      <td>0</td>\n",
       "      <td>3</td>\n",
       "    </tr>\n",
       "  </tbody>\n",
       "</table>\n",
       "</div>"
      ],
      "text/plain": [
       "actividad_fisica  alta  moderada  poca\n",
       "sexo                                  \n",
       "H                    1         1     0\n",
       "M                    1         0     3"
      ]
     },
     "execution_count": 18,
     "metadata": {},
     "output_type": "execute_result"
    }
   ],
   "source": [
    "# Tabla de contingencias (\"freq\")\n",
    "\n",
    "pd.crosstab(df_aula['sexo'], df_aula['actividad_fisica'])"
   ]
  },
  {
   "cell_type": "code",
   "execution_count": 19,
   "metadata": {},
   "outputs": [
    {
     "data": {
      "text/html": [
       "<div>\n",
       "<style scoped>\n",
       "    .dataframe tbody tr th:only-of-type {\n",
       "        vertical-align: middle;\n",
       "    }\n",
       "\n",
       "    .dataframe tbody tr th {\n",
       "        vertical-align: top;\n",
       "    }\n",
       "\n",
       "    .dataframe thead th {\n",
       "        text-align: right;\n",
       "    }\n",
       "</style>\n",
       "<table border=\"1\" class=\"dataframe\">\n",
       "  <thead>\n",
       "    <tr style=\"text-align: right;\">\n",
       "      <th>actividad_fisica</th>\n",
       "      <th>alta</th>\n",
       "      <th>moderada</th>\n",
       "      <th>poca</th>\n",
       "      <th>All</th>\n",
       "    </tr>\n",
       "    <tr>\n",
       "      <th>sexo</th>\n",
       "      <th></th>\n",
       "      <th></th>\n",
       "      <th></th>\n",
       "      <th></th>\n",
       "    </tr>\n",
       "  </thead>\n",
       "  <tbody>\n",
       "    <tr>\n",
       "      <th>H</th>\n",
       "      <td>1</td>\n",
       "      <td>1</td>\n",
       "      <td>0</td>\n",
       "      <td>2</td>\n",
       "    </tr>\n",
       "    <tr>\n",
       "      <th>M</th>\n",
       "      <td>1</td>\n",
       "      <td>0</td>\n",
       "      <td>3</td>\n",
       "      <td>4</td>\n",
       "    </tr>\n",
       "    <tr>\n",
       "      <th>All</th>\n",
       "      <td>2</td>\n",
       "      <td>1</td>\n",
       "      <td>3</td>\n",
       "      <td>6</td>\n",
       "    </tr>\n",
       "  </tbody>\n",
       "</table>\n",
       "</div>"
      ],
      "text/plain": [
       "actividad_fisica  alta  moderada  poca  All\n",
       "sexo                                       \n",
       "H                    1         1     0    2\n",
       "M                    1         0     3    4\n",
       "All                  2         1     3    6"
      ]
     },
     "execution_count": 19,
     "metadata": {},
     "output_type": "execute_result"
    }
   ],
   "source": [
    "# Distribuciones marginales\n",
    "\n",
    "pd.crosstab(df_aula['sexo'], df_aula['actividad_fisica'], margins = True)"
   ]
  },
  {
   "cell_type": "code",
   "execution_count": 20,
   "metadata": {},
   "outputs": [
    {
     "data": {
      "text/html": [
       "<div>\n",
       "<style scoped>\n",
       "    .dataframe tbody tr th:only-of-type {\n",
       "        vertical-align: middle;\n",
       "    }\n",
       "\n",
       "    .dataframe tbody tr th {\n",
       "        vertical-align: top;\n",
       "    }\n",
       "\n",
       "    .dataframe thead th {\n",
       "        text-align: right;\n",
       "    }\n",
       "</style>\n",
       "<table border=\"1\" class=\"dataframe\">\n",
       "  <thead>\n",
       "    <tr style=\"text-align: right;\">\n",
       "      <th>actividad_fisica</th>\n",
       "      <th>alta</th>\n",
       "      <th>moderada</th>\n",
       "      <th>poca</th>\n",
       "      <th>All</th>\n",
       "    </tr>\n",
       "    <tr>\n",
       "      <th>sexo</th>\n",
       "      <th></th>\n",
       "      <th></th>\n",
       "      <th></th>\n",
       "      <th></th>\n",
       "    </tr>\n",
       "  </thead>\n",
       "  <tbody>\n",
       "    <tr>\n",
       "      <th>H</th>\n",
       "      <td>0.166667</td>\n",
       "      <td>0.166667</td>\n",
       "      <td>0.0</td>\n",
       "      <td>0.333333</td>\n",
       "    </tr>\n",
       "    <tr>\n",
       "      <th>M</th>\n",
       "      <td>0.166667</td>\n",
       "      <td>0.000000</td>\n",
       "      <td>0.5</td>\n",
       "      <td>0.666667</td>\n",
       "    </tr>\n",
       "    <tr>\n",
       "      <th>All</th>\n",
       "      <td>0.333333</td>\n",
       "      <td>0.166667</td>\n",
       "      <td>0.5</td>\n",
       "      <td>1.000000</td>\n",
       "    </tr>\n",
       "  </tbody>\n",
       "</table>\n",
       "</div>"
      ],
      "text/plain": [
       "actividad_fisica      alta  moderada  poca       All\n",
       "sexo                                                \n",
       "H                 0.166667  0.166667   0.0  0.333333\n",
       "M                 0.166667  0.000000   0.5  0.666667\n",
       "All               0.333333  0.166667   0.5  1.000000"
      ]
     },
     "execution_count": 20,
     "metadata": {},
     "output_type": "execute_result"
    }
   ],
   "source": [
    "pd.crosstab(df_aula['sexo'], df_aula['actividad_fisica'], margins = True, normalize = True)"
   ]
  },
  {
   "cell_type": "code",
   "execution_count": 21,
   "metadata": {},
   "outputs": [
    {
     "data": {
      "text/html": [
       "<div>\n",
       "<style scoped>\n",
       "    .dataframe tbody tr th:only-of-type {\n",
       "        vertical-align: middle;\n",
       "    }\n",
       "\n",
       "    .dataframe tbody tr th {\n",
       "        vertical-align: top;\n",
       "    }\n",
       "\n",
       "    .dataframe thead th {\n",
       "        text-align: right;\n",
       "    }\n",
       "</style>\n",
       "<table border=\"1\" class=\"dataframe\">\n",
       "  <thead>\n",
       "    <tr style=\"text-align: right;\">\n",
       "      <th>actividad_fisica</th>\n",
       "      <th>alta</th>\n",
       "      <th>moderada</th>\n",
       "      <th>poca</th>\n",
       "    </tr>\n",
       "    <tr>\n",
       "      <th>sexo</th>\n",
       "      <th></th>\n",
       "      <th></th>\n",
       "      <th></th>\n",
       "    </tr>\n",
       "  </thead>\n",
       "  <tbody>\n",
       "    <tr>\n",
       "      <th>H</th>\n",
       "      <td>0.500000</td>\n",
       "      <td>0.500000</td>\n",
       "      <td>0.00</td>\n",
       "    </tr>\n",
       "    <tr>\n",
       "      <th>M</th>\n",
       "      <td>0.250000</td>\n",
       "      <td>0.000000</td>\n",
       "      <td>0.75</td>\n",
       "    </tr>\n",
       "    <tr>\n",
       "      <th>All</th>\n",
       "      <td>0.333333</td>\n",
       "      <td>0.166667</td>\n",
       "      <td>0.50</td>\n",
       "    </tr>\n",
       "  </tbody>\n",
       "</table>\n",
       "</div>"
      ],
      "text/plain": [
       "actividad_fisica      alta  moderada  poca\n",
       "sexo                                      \n",
       "H                 0.500000  0.500000  0.00\n",
       "M                 0.250000  0.000000  0.75\n",
       "All               0.333333  0.166667  0.50"
      ]
     },
     "execution_count": 21,
     "metadata": {},
     "output_type": "execute_result"
    }
   ],
   "source": [
    "# Distribuciones condicionales\n",
    "\n",
    "pd.crosstab(df_aula['sexo'], df_aula['actividad_fisica'], margins = True, normalize = 'index')"
   ]
  },
  {
   "cell_type": "code",
   "execution_count": 22,
   "metadata": {},
   "outputs": [
    {
     "data": {
      "text/html": [
       "<div>\n",
       "<style scoped>\n",
       "    .dataframe tbody tr th:only-of-type {\n",
       "        vertical-align: middle;\n",
       "    }\n",
       "\n",
       "    .dataframe tbody tr th {\n",
       "        vertical-align: top;\n",
       "    }\n",
       "\n",
       "    .dataframe thead th {\n",
       "        text-align: right;\n",
       "    }\n",
       "</style>\n",
       "<table border=\"1\" class=\"dataframe\">\n",
       "  <thead>\n",
       "    <tr style=\"text-align: right;\">\n",
       "      <th>actividad_fisica</th>\n",
       "      <th>alta</th>\n",
       "      <th>moderada</th>\n",
       "      <th>poca</th>\n",
       "    </tr>\n",
       "    <tr>\n",
       "      <th>sexo</th>\n",
       "      <th></th>\n",
       "      <th></th>\n",
       "      <th></th>\n",
       "    </tr>\n",
       "  </thead>\n",
       "  <tbody>\n",
       "    <tr>\n",
       "      <th>H</th>\n",
       "      <td>0.166667</td>\n",
       "      <td>0.166667</td>\n",
       "      <td>0.0</td>\n",
       "    </tr>\n",
       "    <tr>\n",
       "      <th>M</th>\n",
       "      <td>0.166667</td>\n",
       "      <td>0.000000</td>\n",
       "      <td>0.5</td>\n",
       "    </tr>\n",
       "  </tbody>\n",
       "</table>\n",
       "</div>"
      ],
      "text/plain": [
       "actividad_fisica      alta  moderada  poca\n",
       "sexo                                      \n",
       "H                 0.166667  0.166667   0.0\n",
       "M                 0.166667  0.000000   0.5"
      ]
     },
     "execution_count": 22,
     "metadata": {},
     "output_type": "execute_result"
    }
   ],
   "source": [
    "prob_aula = pd.crosstab(df_aula['sexo'], df_aula['actividad_fisica'], normalize = True)\n",
    "prob_aula"
   ]
  },
  {
   "cell_type": "code",
   "execution_count": 23,
   "metadata": {},
   "outputs": [
    {
     "data": {
      "text/plain": [
       "<matplotlib.legend.Legend at 0x7efc9aa0abe0>"
      ]
     },
     "execution_count": 23,
     "metadata": {},
     "output_type": "execute_result"
    },
    {
     "data": {
      "image/png": "[encoded data removed]",
      "text/plain": [
       "<Figure size 432x288 with 1 Axes>"
      ]
     },
     "metadata": {
      "needs_background": "light"
     },
     "output_type": "display_data"
    }
   ],
   "source": [
    "# Graficos de barras\n",
    "\n",
    "plt.bar(prob_aula.columns, prob_aula.loc['H'], label = 'H', alpha = 0.3)\n",
    "plt.bar(prob_aula.columns, prob_aula.loc['M'], label = 'M', alpha = 0.3)\n",
    "plt.legend()"
   ]
  },
  {
   "cell_type": "markdown",
   "metadata": {},
   "source": [
    "## 2 variables numéricas\n",
    "\n",
    " - No estar asociadas\n",
    " - Estar asociadas linealmente (positiva, negativa)\n",
    " - Estar asociadas no linealmente (cuadrática, exponencial, ...)"
   ]
  },
  {
   "cell_type": "code",
   "execution_count": 24,
   "metadata": {},
   "outputs": [
    {
     "data": {
      "text/html": [
       "<div>\n",
       "<style scoped>\n",
       "    .dataframe tbody tr th:only-of-type {\n",
       "        vertical-align: middle;\n",
       "    }\n",
       "\n",
       "    .dataframe tbody tr th {\n",
       "        vertical-align: top;\n",
       "    }\n",
       "\n",
       "    .dataframe thead th {\n",
       "        text-align: right;\n",
       "    }\n",
       "</style>\n",
       "<table border=\"1\" class=\"dataframe\">\n",
       "  <thead>\n",
       "    <tr style=\"text-align: right;\">\n",
       "      <th></th>\n",
       "      <th>nombres</th>\n",
       "      <th>sexo</th>\n",
       "      <th>altura</th>\n",
       "      <th>actividad_fisica</th>\n",
       "      <th>edad</th>\n",
       "    </tr>\n",
       "  </thead>\n",
       "  <tbody>\n",
       "    <tr>\n",
       "      <th>0</th>\n",
       "      <td>Juan</td>\n",
       "      <td>H</td>\n",
       "      <td>1.80</td>\n",
       "      <td>moderada</td>\n",
       "      <td>30</td>\n",
       "    </tr>\n",
       "    <tr>\n",
       "      <th>1</th>\n",
       "      <td>Ana</td>\n",
       "      <td>M</td>\n",
       "      <td>1.70</td>\n",
       "      <td>alta</td>\n",
       "      <td>28</td>\n",
       "    </tr>\n",
       "    <tr>\n",
       "      <th>2</th>\n",
       "      <td>Alba</td>\n",
       "      <td>M</td>\n",
       "      <td>1.50</td>\n",
       "      <td>poca</td>\n",
       "      <td>26</td>\n",
       "    </tr>\n",
       "    <tr>\n",
       "      <th>3</th>\n",
       "      <td>Marta</td>\n",
       "      <td>M</td>\n",
       "      <td>1.68</td>\n",
       "      <td>poca</td>\n",
       "      <td>34</td>\n",
       "    </tr>\n",
       "    <tr>\n",
       "      <th>4</th>\n",
       "      <td>Miguel</td>\n",
       "      <td>H</td>\n",
       "      <td>1.82</td>\n",
       "      <td>alta</td>\n",
       "      <td>40</td>\n",
       "    </tr>\n",
       "    <tr>\n",
       "      <th>5</th>\n",
       "      <td>Cristina</td>\n",
       "      <td>M</td>\n",
       "      <td>1.75</td>\n",
       "      <td>poca</td>\n",
       "      <td>20</td>\n",
       "    </tr>\n",
       "  </tbody>\n",
       "</table>\n",
       "</div>"
      ],
      "text/plain": [
       "    nombres sexo  altura actividad_fisica  edad\n",
       "0      Juan    H    1.80         moderada    30\n",
       "1       Ana    M    1.70             alta    28\n",
       "2      Alba    M    1.50             poca    26\n",
       "3     Marta    M    1.68             poca    34\n",
       "4    Miguel    H    1.82             alta    40\n",
       "5  Cristina    M    1.75             poca    20"
      ]
     },
     "execution_count": 24,
     "metadata": {},
     "output_type": "execute_result"
    }
   ],
   "source": [
    "dict_aula = {'nombres': ['Juan', 'Ana', 'Alba', 'Marta', 'Miguel', 'Cristina'],\n",
    "             'sexo': ['H', 'M', 'M', 'M', 'H', 'M'],\n",
    "             'altura': [1.8, 1.7, 1.5, 1.68, 1.82, 1.75],\n",
    "             'actividad_fisica': ['moderada', 'alta', 'poca', 'poca', 'alta', 'poca'],\n",
    "             'edad': [30, 28, 26, 34, 40, 20]}\n",
    "\n",
    "df_aula = pd.DataFrame(dict_aula)\n",
    "df_aula"
   ]
  },
  {
   "cell_type": "code",
   "execution_count": 25,
   "metadata": {},
   "outputs": [
    {
     "data": {
      "text/plain": [
       "<matplotlib.collections.PathCollection at 0x7efc9a9f9760>"
      ]
     },
     "execution_count": 25,
     "metadata": {},
     "output_type": "execute_result"
    },
    {
     "data": {
      "image/png": "[encoded data removed]",
      "text/plain": [
       "<Figure size 432x288 with 1 Axes>"
      ]
     },
     "metadata": {
      "needs_background": "light"
     },
     "output_type": "display_data"
    }
   ],
   "source": [
    "# Scatterplot\n",
    "\n",
    "plt.scatter(df_aula['altura'], df_aula['edad'])"
   ]
  },
  {
   "cell_type": "code",
   "execution_count": 26,
   "metadata": {},
   "outputs": [
    {
     "data": {
      "text/plain": [
       "array([[1.        , 0.36212236],\n",
       "       [0.36212236, 1.        ]])"
      ]
     },
     "execution_count": 26,
     "metadata": {},
     "output_type": "execute_result"
    }
   ],
   "source": [
    "# Coeficiente de correlacion de Pearson (kendell, spearman, ...)\n",
    "\n",
    "   # r = -1 perfecta asociacion lineal negativa\n",
    "   # r = +1 perfecta asociacion lineal positiva\n",
    "   # r = 0 no hay asociacion lineal (puede haber cuadrática, ...)\n",
    "    \n",
    "np.corrcoef(df_aula['altura'], df_aula['edad'])"
   ]
  },
  {
   "cell_type": "markdown",
   "metadata": {},
   "source": [
    "## 1 variable categórica, 1 variable numérica"
   ]
  },
  {
   "cell_type": "code",
   "execution_count": 27,
   "metadata": {},
   "outputs": [
    {
     "data": {
      "text/html": [
       "<div>\n",
       "<style scoped>\n",
       "    .dataframe tbody tr th:only-of-type {\n",
       "        vertical-align: middle;\n",
       "    }\n",
       "\n",
       "    .dataframe tbody tr th {\n",
       "        vertical-align: top;\n",
       "    }\n",
       "\n",
       "    .dataframe thead th {\n",
       "        text-align: right;\n",
       "    }\n",
       "</style>\n",
       "<table border=\"1\" class=\"dataframe\">\n",
       "  <thead>\n",
       "    <tr style=\"text-align: right;\">\n",
       "      <th></th>\n",
       "      <th>nombres</th>\n",
       "      <th>sexo</th>\n",
       "      <th>altura</th>\n",
       "      <th>actividad_fisica</th>\n",
       "      <th>edad</th>\n",
       "    </tr>\n",
       "  </thead>\n",
       "  <tbody>\n",
       "    <tr>\n",
       "      <th>0</th>\n",
       "      <td>Juan</td>\n",
       "      <td>H</td>\n",
       "      <td>1.80</td>\n",
       "      <td>moderada</td>\n",
       "      <td>30</td>\n",
       "    </tr>\n",
       "    <tr>\n",
       "      <th>1</th>\n",
       "      <td>Ana</td>\n",
       "      <td>M</td>\n",
       "      <td>1.70</td>\n",
       "      <td>alta</td>\n",
       "      <td>28</td>\n",
       "    </tr>\n",
       "    <tr>\n",
       "      <th>2</th>\n",
       "      <td>Alba</td>\n",
       "      <td>M</td>\n",
       "      <td>1.50</td>\n",
       "      <td>poca</td>\n",
       "      <td>26</td>\n",
       "    </tr>\n",
       "    <tr>\n",
       "      <th>3</th>\n",
       "      <td>Marta</td>\n",
       "      <td>M</td>\n",
       "      <td>1.68</td>\n",
       "      <td>poca</td>\n",
       "      <td>34</td>\n",
       "    </tr>\n",
       "    <tr>\n",
       "      <th>4</th>\n",
       "      <td>Miguel</td>\n",
       "      <td>H</td>\n",
       "      <td>1.82</td>\n",
       "      <td>alta</td>\n",
       "      <td>40</td>\n",
       "    </tr>\n",
       "    <tr>\n",
       "      <th>5</th>\n",
       "      <td>Cristina</td>\n",
       "      <td>M</td>\n",
       "      <td>1.75</td>\n",
       "      <td>poca</td>\n",
       "      <td>20</td>\n",
       "    </tr>\n",
       "  </tbody>\n",
       "</table>\n",
       "</div>"
      ],
      "text/plain": [
       "    nombres sexo  altura actividad_fisica  edad\n",
       "0      Juan    H    1.80         moderada    30\n",
       "1       Ana    M    1.70             alta    28\n",
       "2      Alba    M    1.50             poca    26\n",
       "3     Marta    M    1.68             poca    34\n",
       "4    Miguel    H    1.82             alta    40\n",
       "5  Cristina    M    1.75             poca    20"
      ]
     },
     "execution_count": 27,
     "metadata": {},
     "output_type": "execute_result"
    }
   ],
   "source": [
    "df_aula"
   ]
  },
  {
   "cell_type": "code",
   "execution_count": 28,
   "metadata": {},
   "outputs": [
    {
     "data": {
      "text/html": [
       "<div>\n",
       "<style scoped>\n",
       "    .dataframe tbody tr th:only-of-type {\n",
       "        vertical-align: middle;\n",
       "    }\n",
       "\n",
       "    .dataframe tbody tr th {\n",
       "        vertical-align: top;\n",
       "    }\n",
       "\n",
       "    .dataframe thead th {\n",
       "        text-align: right;\n",
       "    }\n",
       "</style>\n",
       "<table border=\"1\" class=\"dataframe\">\n",
       "  <thead>\n",
       "    <tr style=\"text-align: right;\">\n",
       "      <th></th>\n",
       "      <th>count</th>\n",
       "      <th>mean</th>\n",
       "      <th>std</th>\n",
       "      <th>min</th>\n",
       "      <th>25%</th>\n",
       "      <th>50%</th>\n",
       "      <th>75%</th>\n",
       "      <th>max</th>\n",
       "    </tr>\n",
       "    <tr>\n",
       "      <th>sexo</th>\n",
       "      <th></th>\n",
       "      <th></th>\n",
       "      <th></th>\n",
       "      <th></th>\n",
       "      <th></th>\n",
       "      <th></th>\n",
       "      <th></th>\n",
       "      <th></th>\n",
       "    </tr>\n",
       "  </thead>\n",
       "  <tbody>\n",
       "    <tr>\n",
       "      <th>H</th>\n",
       "      <td>2.0</td>\n",
       "      <td>1.8100</td>\n",
       "      <td>0.014142</td>\n",
       "      <td>1.8</td>\n",
       "      <td>1.805</td>\n",
       "      <td>1.81</td>\n",
       "      <td>1.8150</td>\n",
       "      <td>1.82</td>\n",
       "    </tr>\n",
       "    <tr>\n",
       "      <th>M</th>\n",
       "      <td>4.0</td>\n",
       "      <td>1.6575</td>\n",
       "      <td>0.109049</td>\n",
       "      <td>1.5</td>\n",
       "      <td>1.635</td>\n",
       "      <td>1.69</td>\n",
       "      <td>1.7125</td>\n",
       "      <td>1.75</td>\n",
       "    </tr>\n",
       "  </tbody>\n",
       "</table>\n",
       "</div>"
      ],
      "text/plain": [
       "      count    mean       std  min    25%   50%     75%   max\n",
       "sexo                                                         \n",
       "H       2.0  1.8100  0.014142  1.8  1.805  1.81  1.8150  1.82\n",
       "M       4.0  1.6575  0.109049  1.5  1.635  1.69  1.7125  1.75"
      ]
     },
     "execution_count": 28,
     "metadata": {},
     "output_type": "execute_result"
    }
   ],
   "source": [
    "df_aula.groupby('sexo')['altura'].describe()"
   ]
  },
  {
   "cell_type": "code",
   "execution_count": 29,
   "metadata": {},
   "outputs": [
    {
     "data": {
      "text/plain": [
       "0    1.80\n",
       "4    1.82\n",
       "Name: altura, dtype: float64"
      ]
     },
     "execution_count": 29,
     "metadata": {},
     "output_type": "execute_result"
    }
   ],
   "source": [
    "df_aula[df_aula['sexo'] == 'H']['altura']"
   ]
  },
  {
   "cell_type": "code",
   "execution_count": 30,
   "metadata": {},
   "outputs": [
    {
     "data": {
      "image/png": "[encoded data removed]",
      "text/plain": [
       "<Figure size 432x288 with 1 Axes>"
      ]
     },
     "metadata": {
      "needs_background": "light"
     },
     "output_type": "display_data"
    }
   ],
   "source": [
    "# boxplots\n",
    "\n",
    "plt.boxplot([df_aula[df_aula['sexo'] == 'H']['altura'], df_aula[df_aula['sexo'] == 'M']['altura']])\n",
    "plt.show()"
   ]
  },
  {
   "cell_type": "code",
   "execution_count": 31,
   "metadata": {},
   "outputs": [
    {
     "data": {
      "text/plain": [
       "<matplotlib.legend.Legend at 0x7efc9a9c12b0>"
      ]
     },
     "execution_count": 31,
     "metadata": {},
     "output_type": "execute_result"
    },
    {
     "data": {
      "image/png": "[encoded data removed]",
      "text/plain": [
       "<Figure size 432x288 with 1 Axes>"
      ]
     },
     "metadata": {
      "needs_background": "light"
     },
     "output_type": "display_data"
    }
   ],
   "source": [
    "# histogramas\n",
    "\n",
    "plt.hist(df_aula[df_aula['sexo'] == 'H']['altura'], alpha = 0.3, label = 'H', bins = 1)\n",
    "plt.hist(df_aula[df_aula['sexo'] == 'M']['altura'], alpha = 0.3, label = 'M', bins = 10)\n",
    "plt.legend()"
   ]
  },
  {
   "cell_type": "markdown",
   "metadata": {},
   "source": [
    "# Ejemplo dataset real\n",
    "\n",
    "  - ratio_criminalidad: ratio de criminalidad del barrio donde se encuentra la vivienda (por persona).\n",
    "  - porcentaje_parques: porcentaje de parques vs viviendas en la zona.\n",
    "  - porcentaje_comercios: porcentaje de comercios vs viviendas en la zona.\n",
    "  - casa_unifamiliar: 1 si la casa es unifamiliar, 0 si se trata de una casa adosada, piso u otro.\n",
    "  - edad_media_barrio: edad media de la gente que habita en el barrio.\n",
    "  - habitaciones: número de habitaciones de la vivienda.\n",
    "  - metros: número de metros cuadrados de la vivienda.\n",
    "  - distancia_colegio: distancia de la vivienda al colegio público más cercano (metros).\n",
    "  - valoracion_colegio: valoración entre 0 y 10 del colegio público más cercano.\n",
    "  - precio: precio de la vivienda\n",
    "  \n",
    "  \n",
    " Elegir:\n",
    "  \n",
    "  - 1 variable categorica (freq, freq relativa, grafico de barras)\n",
    "  - 1 variable numerica (estadisticos, histograma y boxplot)\n",
    "  - variables elegidas junto con el precio de la vivienda (estadísticos, hist y boxplot por categoría - scatterplot y correlacion)"
   ]
  },
  {
   "cell_type": "code",
   "execution_count": 33,
   "metadata": {
    "scrolled": true
   },
   "outputs": [
    {
     "data": {
      "text/html": [
       "<div>\n",
       "<style scoped>\n",
       "    .dataframe tbody tr th:only-of-type {\n",
       "        vertical-align: middle;\n",
       "    }\n",
       "\n",
       "    .dataframe tbody tr th {\n",
       "        vertical-align: top;\n",
       "    }\n",
       "\n",
       "    .dataframe thead th {\n",
       "        text-align: right;\n",
       "    }\n",
       "</style>\n",
       "<table border=\"1\" class=\"dataframe\">\n",
       "  <thead>\n",
       "    <tr style=\"text-align: right;\">\n",
       "      <th></th>\n",
       "      <th>ratio_criminalidad</th>\n",
       "      <th>porcentaje_parques</th>\n",
       "      <th>porcentaje_comercios</th>\n",
       "      <th>casa_unifamiliar</th>\n",
       "      <th>edad_media_barrio</th>\n",
       "      <th>habitaciones</th>\n",
       "      <th>metros</th>\n",
       "      <th>distancia_colegio</th>\n",
       "      <th>valoracion_colegio</th>\n",
       "      <th>precio</th>\n",
       "    </tr>\n",
       "  </thead>\n",
       "  <tbody>\n",
       "    <tr>\n",
       "      <th>0</th>\n",
       "      <td>0.00632</td>\n",
       "      <td>23.631084</td>\n",
       "      <td>3.339678</td>\n",
       "      <td>0.0</td>\n",
       "      <td>43.466667</td>\n",
       "      <td>1.0</td>\n",
       "      <td>94.439877</td>\n",
       "      <td>2291.477710</td>\n",
       "      <td>1.660000</td>\n",
       "      <td>254721.760253</td>\n",
       "    </tr>\n",
       "    <tr>\n",
       "      <th>1</th>\n",
       "      <td>0.02731</td>\n",
       "      <td>5.106166</td>\n",
       "      <td>10.906336</td>\n",
       "      <td>0.0</td>\n",
       "      <td>52.600000</td>\n",
       "      <td>2.0</td>\n",
       "      <td>84.052806</td>\n",
       "      <td>2270.479409</td>\n",
       "      <td>3.046667</td>\n",
       "      <td>219680.080256</td>\n",
       "    </tr>\n",
       "    <tr>\n",
       "      <th>2</th>\n",
       "      <td>0.02729</td>\n",
       "      <td>4.187343</td>\n",
       "      <td>12.958140</td>\n",
       "      <td>0.0</td>\n",
       "      <td>40.733333</td>\n",
       "      <td>2.0</td>\n",
       "      <td>75.127212</td>\n",
       "      <td>2421.814527</td>\n",
       "      <td>1.343333</td>\n",
       "      <td>354727.939222</td>\n",
       "    </tr>\n",
       "    <tr>\n",
       "      <th>3</th>\n",
       "      <td>0.03237</td>\n",
       "      <td>12.383763</td>\n",
       "      <td>8.721376</td>\n",
       "      <td>0.0</td>\n",
       "      <td>45.800000</td>\n",
       "      <td>3.0</td>\n",
       "      <td>73.067394</td>\n",
       "      <td>1980.682900</td>\n",
       "      <td>0.980000</td>\n",
       "      <td>334008.621010</td>\n",
       "    </tr>\n",
       "    <tr>\n",
       "      <th>4</th>\n",
       "      <td>0.06905</td>\n",
       "      <td>2.070513</td>\n",
       "      <td>9.256222</td>\n",
       "      <td>0.0</td>\n",
       "      <td>54.200000</td>\n",
       "      <td>3.0</td>\n",
       "      <td>81.514753</td>\n",
       "      <td>2440.596176</td>\n",
       "      <td>1.776667</td>\n",
       "      <td>364524.395614</td>\n",
       "    </tr>\n",
       "  </tbody>\n",
       "</table>\n",
       "</div>"
      ],
      "text/plain": [
       "   ratio_criminalidad  porcentaje_parques  porcentaje_comercios  \\\n",
       "0             0.00632           23.631084              3.339678   \n",
       "1             0.02731            5.106166             10.906336   \n",
       "2             0.02729            4.187343             12.958140   \n",
       "3             0.03237           12.383763              8.721376   \n",
       "4             0.06905            2.070513              9.256222   \n",
       "\n",
       "   casa_unifamiliar  edad_media_barrio  habitaciones     metros  \\\n",
       "0               0.0          43.466667           1.0  94.439877   \n",
       "1               0.0          52.600000           2.0  84.052806   \n",
       "2               0.0          40.733333           2.0  75.127212   \n",
       "3               0.0          45.800000           3.0  73.067394   \n",
       "4               0.0          54.200000           3.0  81.514753   \n",
       "\n",
       "   distancia_colegio  valoracion_colegio         precio  \n",
       "0        2291.477710            1.660000  254721.760253  \n",
       "1        2270.479409            3.046667  219680.080256  \n",
       "2        2421.814527            1.343333  354727.939222  \n",
       "3        1980.682900            0.980000  334008.621010  \n",
       "4        2440.596176            1.776667  364524.395614  "
      ]
     },
     "execution_count": 33,
     "metadata": {},
     "output_type": "execute_result"
    }
   ],
   "source": [
    "casas = pd.read_csv('house_pricing.csv')\n",
    "casas.head()"
   ]
  },
  {
   "cell_type": "code",
   "execution_count": 34,
   "metadata": {},
   "outputs": [
    {
     "data": {
      "image/png": "[encoded data removed]",
      "text/plain": [
       "<Figure size 576x360 with 2 Axes>"
      ]
     },
     "metadata": {
      "needs_background": "light"
     },
     "output_type": "display_data"
    }
   ],
   "source": [
    "fig, ax = plt.subplots(2, 1, figsize=(8,5))\n",
    "ax[0].hist(casas['precio'], bins=20)\n",
    "ax[0].axvline(casas['precio'].median(), color='red', label='median')\n",
    "ax[0].axvline(casas['precio'].mean(), color='green', label='mean')\n",
    "ax[1].boxplot(casas['precio'], vert=False)\n",
    "ax[0].legend()\n",
    "plt.show()"
   ]
  },
  {
   "cell_type": "code",
   "execution_count": 37,
   "metadata": {},
   "outputs": [
    {
     "name": "stdout",
     "output_type": "stream",
     "text": [
      "Frecuencia: \n",
      " 0.0    471\n",
      "1.0     35\n",
      "Name: casa_unifamiliar, dtype: int64 \n",
      "\n",
      "Frecuencia relativa: \n",
      " 0.0    0.93083\n",
      "1.0    0.06917\n",
      "Name: casa_unifamiliar, dtype: float64\n"
     ]
    },
    {
     "data": {
      "image/png": "[encoded data removed]",
      "text/plain": [
       "<Figure size 432x288 with 1 Axes>"
      ]
     },
     "metadata": {
      "needs_background": "light"
     },
     "output_type": "display_data"
    }
   ],
   "source": [
    "######## Variable categorica ########\n",
    "\n",
    "casa_unif = casas['casa_unifamiliar']\n",
    "freq = casa_unif.value_counts()\n",
    "freq_rel = freq/len(casas)\n",
    "\n",
    "print('Frecuencia: \\n', freq, '\\n')\n",
    "print('Frecuencia relativa: \\n', freq_rel)\n",
    "\n",
    "plt.bar(freq.index.values, freq);"
   ]
  },
  {
   "cell_type": "code",
   "execution_count": 38,
   "metadata": {},
   "outputs": [
    {
     "name": "stdout",
     "output_type": "stream",
     "text": [
      "Estadísticos: \n",
      " count    506.000000\n",
      "mean      82.815883\n",
      "std       11.896602\n",
      "min       58.349797\n",
      "25%       73.849653\n",
      "50%       80.473065\n",
      "75%       89.067874\n",
      "max      123.676406\n",
      "Name: metros, dtype: float64\n"
     ]
    },
    {
     "data": {
      "image/png": "[encoded data removed]",
      "text/plain": [
       "<Figure size 432x288 with 1 Axes>"
      ]
     },
     "metadata": {
      "needs_background": "light"
     },
     "output_type": "display_data"
    }
   ],
   "source": [
    "######## Variable numérica ########\n",
    "\n",
    "metr = casas['metros']\n",
    "print('Estadísticos: \\n', metr.describe())\n",
    "\n",
    "plt.hist(metr)\n",
    "plt.show()"
   ]
  },
  {
   "cell_type": "code",
   "execution_count": 39,
   "metadata": {},
   "outputs": [
    {
     "name": "stdout",
     "output_type": "stream",
     "text": [
      "                  count           mean            std            min  \\\n",
      "casa_unifamiliar                                                       \n",
      "0.0               471.0  228952.123998   88091.677347   52932.232296   \n",
      "1.0                35.0  294761.960489  118087.470491  138475.263517   \n",
      "\n",
      "                            25%            50%            75%            max  \n",
      "casa_unifamiliar                                                              \n",
      "0.0               175314.995952  216833.825458  257555.727628  520607.499401  \n",
      "1.0               220311.004585  245613.264677  347974.438911  525464.289668  \n"
     ]
    },
    {
     "data": {
      "image/png": "[encoded data removed]",
      "text/plain": [
       "<Figure size 432x288 with 1 Axes>"
      ]
     },
     "metadata": {
      "needs_background": "light"
     },
     "output_type": "display_data"
    }
   ],
   "source": [
    "######## Variable categorica + precio ########\n",
    "\n",
    "print(casas.groupby('casa_unifamiliar')['precio'].describe())\n",
    "\n",
    "plt.boxplot([casas[casas['casa_unifamiliar'] == 0]['precio'], casas[casas['casa_unifamiliar'] == 1]['precio']])\n",
    "plt.show()"
   ]
  },
  {
   "cell_type": "code",
   "execution_count": 40,
   "metadata": {},
   "outputs": [
    {
     "name": "stdout",
     "output_type": "stream",
     "text": [
      "[[1.         0.42623787]\n",
      " [0.42623787 1.        ]]\n"
     ]
    },
    {
     "data": {
      "text/plain": [
       "<matplotlib.collections.PathCollection at 0x7efc9a47c580>"
      ]
     },
     "execution_count": 40,
     "metadata": {},
     "output_type": "execute_result"
    },
    {
     "data": {
      "image/png": "[encoded data removed]",
      "text/plain": [
       "<Figure size 432x288 with 1 Axes>"
      ]
     },
     "metadata": {
      "needs_background": "light"
     },
     "output_type": "display_data"
    }
   ],
   "source": [
    "######## Variable numérica + precio ########\n",
    "\n",
    "precio = casas['precio']\n",
    "print(np.corrcoef(metr, precio))\n",
    "\n",
    "plt.scatter(metr, precio)"
   ]
  },
  {
   "cell_type": "code",
   "execution_count": null,
   "metadata": {},
   "outputs": [],
   "source": []
  }
 ],
 "metadata": {
  "kernelspec": {
   "display_name": "Python 3",
   "language": "python",
   "name": "python3"
  },
  "language_info": {
   "codemirror_mode": {
    "name": "ipython",
    "version": 3
   },
   "file_extension": ".py",
   "mimetype": "text/x-python",
   "name": "python",
   "nbconvert_exporter": "python",
   "pygments_lexer": "ipython3",
   "version": "3.8.5"
  }
 },
 "nbformat": 4,
 "nbformat_minor": 4
}
